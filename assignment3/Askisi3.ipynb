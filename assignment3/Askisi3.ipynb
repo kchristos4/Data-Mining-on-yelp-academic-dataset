{
 "cells": [
  {
   "cell_type": "code",
   "execution_count": 1,
   "id": "5a3944e7",
   "metadata": {},
   "outputs": [],
   "source": [
    "import numpy as np\n",
    "import scipy as sp\n",
    "import pandas as pd\n",
    "import matplotlib.pyplot as plt\n",
    "import networkx as nx\n",
    "import random"
   ]
  },
  {
   "cell_type": "markdown",
   "id": "cee2a565",
   "metadata": {},
   "source": [
    "#3.1"
   ]
  },
  {
   "cell_type": "code",
   "execution_count": 2,
   "id": "8143fb2c",
   "metadata": {},
   "outputs": [
    {
     "name": "stdout",
     "output_type": "stream",
     "text": [
      "(967552, 3) (967552, 3)\n",
      "prune\n",
      "prune\n",
      "prune\n",
      "prune\n",
      "prune\n",
      "prune\n",
      "prune\n",
      "prune\n",
      "prune\n",
      "prune\n",
      "                       user_id             business_id  stars\n",
      "3       smOvOajNG0lS4Pq7d8g4JQ  RZtGWDLCAtuipwaZ-UfjmQ    4.0\n",
      "5       IQsF3Rc6IgCzjVV9DE8KXg  eFvzHawVJofxSnD7TgbZtg    5.0\n",
      "10      ZGjgfSvjQK886kiTzLwfLQ  EtKSTHV5Qx_Q7Aur9o4kQQ    5.0\n",
      "11      IKbjLnfBQtEyVzEu8CuOLg  VJEzpfLs_Jnzgqh5A_FVTg    4.0\n",
      "13      NUtIAX-ygn474tDg5nmesg  6LCZLGa09Qifn6rG7-DNrg    4.0\n",
      "...                        ...                     ...    ...\n",
      "967542  bJ5FtCtZX3ZZacz2_2PJjA  wMQkdK2aNMvq2xoojC98Mw    4.0\n",
      "967543  bJ5FtCtZX3ZZacz2_2PJjA  SOsjW1JARmtHUFtpFlp8rw    4.0\n",
      "967545  LHWtjTG7e1NzNPYUbUo-9w  rgeuy1qbw6Z8B6CSVANHIA    5.0\n",
      "967550  7ziWZULyiZv2TesYNMFf4g  qQO7ErS_RAN4Vs1uX0L55Q    4.0\n",
      "967551  MCzlzlOw7IGbRAKVjJBPtg  fcGexL5VH5G2Xw0tRj9uOQ    3.0\n",
      "\n",
      "[101923 rows x 3 columns]\n",
      "data processed = 100000\n",
      "data processed = 200000\n",
      "data processed = 300000\n",
      "data processed = 400000\n",
      "data processed = 500000\n",
      "data processed = 600000\n",
      "data processed = 700000\n",
      "data processed = 800000\n",
      "data processed = 900000\n",
      "data processed = 1000000\n",
      "data processed = 1100000\n",
      "data processed = 1200000\n",
      "data processed = 1300000\n",
      "data processed = 1400000\n",
      "data processed = 1500000\n",
      "data processed = 1600000\n",
      "data processed = 1700000\n",
      "data processed = 1800000\n",
      "data processed = 1900000\n",
      "data processed = 2000000\n",
      "(1604, 22)\n"
     ]
    }
   ],
   "source": [
    "df = pd.read_csv('philly_users_businesses_stars.csv')\n",
    "old_user_shape = df.shape\n",
    "old_business_shape = df.shape\n",
    "new_user_shape =(0,0)\n",
    "new_business_shape = (0,0)\n",
    "print(old_business_shape,old_user_shape)\n",
    "\n",
    "while((old_user_shape!=new_user_shape) or (old_business_shape!=new_business_shape)):\n",
    "    user_counts = df.groupby('user_id')['business_id'].count()\n",
    "    users_to_keep = user_counts[user_counts > 30]\n",
    "    old_user_shape = new_user_shape\n",
    "    new_user_shape = users_to_keep.shape\n",
    "    df = df.loc[df['user_id'].isin(users_to_keep.index)]\n",
    "\n",
    "\n",
    "    business_counts = df.groupby('business_id')['user_id'].count()\n",
    "    businesses_to_keep = business_counts[business_counts > 50]\n",
    "    old_business_shape = new_business_shape\n",
    "    new_business_shape = businesses_to_keep.shape\n",
    "    df = df.loc[df['business_id'].isin(businesses_to_keep.index)]\n",
    "    print(\"prune\")\n",
    "\n",
    "print(df)\n",
    "\n",
    "chunks = pd.read_json('yelp_academic_dataset_user.json', lines=True,chunksize=100000)\n",
    "df_users = pd.DataFrame()\n",
    "dataProcessed = 0\n",
    "for chunk in chunks:\n",
    "    dataProcessed+=1\n",
    "    #temp = pd.merge(left=df, right=chunk, on='user_id')\n",
    "    temp = chunk.loc[chunk['user_id'].isin(df['user_id'])]\n",
    "    print(f'data processed = {dataProcessed*100000}')\n",
    "    df_users = pd.concat([df_users,temp])\n",
    "\n",
    "print(df_users.shape)"
   ]
  },
  {
   "cell_type": "code",
   "execution_count": 3,
   "id": "b33a2b1a",
   "metadata": {},
   "outputs": [
    {
     "name": "stdout",
     "output_type": "stream",
     "text": [
      "Index(['user_id', 'business_id', 'stars'], dtype='object')\n",
      "1604\n",
      "Index(['user_id', 'name', 'review_count', 'yelping_since', 'useful', 'funny',\n",
      "       'cool', 'elite', 'friends', 'fans', 'average_stars', 'compliment_hot',\n",
      "       'compliment_more', 'compliment_profile', 'compliment_cute',\n",
      "       'compliment_list', 'compliment_note', 'compliment_plain',\n",
      "       'compliment_cool', 'compliment_funny', 'compliment_writer',\n",
      "       'compliment_photos'],\n",
      "      dtype='object')\n",
      "1504\n"
     ]
    }
   ],
   "source": [
    "\n",
    "#df_unique_users = df_users.drop_duplicates(subset=['user_id'],keep='first', inplace=False)\n",
    "#print(df_unique_users.shape)\n",
    "print(df.columns)\n",
    "G = nx.Graph()\n",
    "unique_user_ids = df_users['user_id'].unique()\n",
    "G.add_nodes_from(unique_user_ids)\n",
    "print(len(G.nodes()))\n",
    "\n",
    "df_users['friends'] = df_users['friends'].apply(lambda x: ', '.join([friend for friend in x.split(', ') if friend in unique_user_ids]))\n",
    "print(df_users.columns)\n",
    "for index, row in df_users.iterrows():\n",
    "    user_id = str(row['user_id'])\n",
    "    lst_friends = row['friends'].split(', ')\n",
    "    tuple_list = [(user_id,friend) for friend in lst_friends]\n",
    "    G.add_edges_from(tuple_list)\n",
    "\n",
    "largest_cc = max(nx.connected_components(G), key=len)\n",
    "CC_max = nx.subgraph(G,largest_cc)\n",
    "print(len(CC_max.nodes()))\n"
   ]
  },
  {
   "cell_type": "markdown",
   "id": "5c948c5b",
   "metadata": {},
   "source": [
    "#3.2"
   ]
  },
  {
   "cell_type": "code",
   "execution_count": 4,
   "id": "d1240c3f",
   "metadata": {},
   "outputs": [
    {
     "name": "stdout",
     "output_type": "stream",
     "text": [
      "                       user_id             business_id  stars\n",
      "837     4_IJKLhoyof73pvRal4Exw  EtKSTHV5Qx_Q7Aur9o4kQQ    4.0\n",
      "1877    03F1c27jkAikld3z5tSdpQ  u7_3L1NBWgxhBM_B-cmmnA    5.0\n",
      "11743   zrESudirjip-s8wxxAB0xw  EtKSTHV5Qx_Q7Aur9o4kQQ    5.0\n",
      "13533   zrESudirjip-s8wxxAB0xw  4_W5pstoN1166TGjjPOrMg    4.0\n",
      "14002   y3Wtx1pOvTiqsJRkjceXiw  wUnLSg_GKfEIQ5CQQ770_g    4.0\n",
      "...                        ...                     ...    ...\n",
      "951928  V-Tv_2hv1Ag3wQrqOpVnEQ  SOsjW1JARmtHUFtpFlp8rw    4.0\n",
      "961789  Ff8hG_00h6SO5unNTXPFQQ  jkGQQ4_LgJx3hwPtCFkzbQ    4.0\n",
      "962345  V-Tv_2hv1Ag3wQrqOpVnEQ  SOsjW1JARmtHUFtpFlp8rw    5.0\n",
      "962916  efoFHUP08msKW73LPkZxWA  jkGQQ4_LgJx3hwPtCFkzbQ    1.0\n",
      "967123  V-Tv_2hv1Ag3wQrqOpVnEQ  SOsjW1JARmtHUFtpFlp8rw    1.0\n",
      "\n",
      "[733 rows x 3 columns]\n",
      "                       user_id             business_id  stars     _merge\n",
      "0       smOvOajNG0lS4Pq7d8g4JQ  RZtGWDLCAtuipwaZ-UfjmQ    4.0  left_only\n",
      "1       IQsF3Rc6IgCzjVV9DE8KXg  eFvzHawVJofxSnD7TgbZtg    5.0  left_only\n",
      "2       ZGjgfSvjQK886kiTzLwfLQ  EtKSTHV5Qx_Q7Aur9o4kQQ    5.0  left_only\n",
      "3       IKbjLnfBQtEyVzEu8CuOLg  VJEzpfLs_Jnzgqh5A_FVTg    4.0  left_only\n",
      "4       NUtIAX-ygn474tDg5nmesg  6LCZLGa09Qifn6rG7-DNrg    4.0  left_only\n",
      "...                        ...                     ...    ...        ...\n",
      "101976  bJ5FtCtZX3ZZacz2_2PJjA  wMQkdK2aNMvq2xoojC98Mw    4.0  left_only\n",
      "101977  bJ5FtCtZX3ZZacz2_2PJjA  SOsjW1JARmtHUFtpFlp8rw    4.0  left_only\n",
      "101978  LHWtjTG7e1NzNPYUbUo-9w  rgeuy1qbw6Z8B6CSVANHIA    5.0  left_only\n",
      "101979  7ziWZULyiZv2TesYNMFf4g  qQO7ErS_RAN4Vs1uX0L55Q    4.0  left_only\n",
      "101980  MCzlzlOw7IGbRAKVjJBPtg  fcGexL5VH5G2Xw0tRj9uOQ    3.0  left_only\n",
      "\n",
      "[101981 rows x 4 columns]\n",
      "                       user_id             business_id  stars     _merge\n",
      "0       smOvOajNG0lS4Pq7d8g4JQ  RZtGWDLCAtuipwaZ-UfjmQ    4.0  left_only\n",
      "1       IQsF3Rc6IgCzjVV9DE8KXg  eFvzHawVJofxSnD7TgbZtg    5.0  left_only\n",
      "2       ZGjgfSvjQK886kiTzLwfLQ  EtKSTHV5Qx_Q7Aur9o4kQQ    5.0  left_only\n",
      "3       IKbjLnfBQtEyVzEu8CuOLg  VJEzpfLs_Jnzgqh5A_FVTg    4.0  left_only\n",
      "4       NUtIAX-ygn474tDg5nmesg  6LCZLGa09Qifn6rG7-DNrg    4.0  left_only\n",
      "...                        ...                     ...    ...        ...\n",
      "101976  bJ5FtCtZX3ZZacz2_2PJjA  wMQkdK2aNMvq2xoojC98Mw    4.0  left_only\n",
      "101977  bJ5FtCtZX3ZZacz2_2PJjA  SOsjW1JARmtHUFtpFlp8rw    4.0  left_only\n",
      "101978  LHWtjTG7e1NzNPYUbUo-9w  rgeuy1qbw6Z8B6CSVANHIA    5.0  left_only\n",
      "101979  7ziWZULyiZv2TesYNMFf4g  qQO7ErS_RAN4Vs1uX0L55Q    4.0  left_only\n",
      "101980  MCzlzlOw7IGbRAKVjJBPtg  fcGexL5VH5G2Xw0tRj9uOQ    3.0  left_only\n",
      "\n",
      "[101190 rows x 4 columns]\n",
      "                       user_id             business_id  stars\n",
      "0       smOvOajNG0lS4Pq7d8g4JQ  RZtGWDLCAtuipwaZ-UfjmQ    4.0\n",
      "1       IQsF3Rc6IgCzjVV9DE8KXg  eFvzHawVJofxSnD7TgbZtg    5.0\n",
      "2       ZGjgfSvjQK886kiTzLwfLQ  EtKSTHV5Qx_Q7Aur9o4kQQ    5.0\n",
      "3       IKbjLnfBQtEyVzEu8CuOLg  VJEzpfLs_Jnzgqh5A_FVTg    4.0\n",
      "4       NUtIAX-ygn474tDg5nmesg  6LCZLGa09Qifn6rG7-DNrg    4.0\n",
      "...                        ...                     ...    ...\n",
      "101976  bJ5FtCtZX3ZZacz2_2PJjA  wMQkdK2aNMvq2xoojC98Mw    4.0\n",
      "101977  bJ5FtCtZX3ZZacz2_2PJjA  SOsjW1JARmtHUFtpFlp8rw    4.0\n",
      "101978  LHWtjTG7e1NzNPYUbUo-9w  rgeuy1qbw6Z8B6CSVANHIA    5.0\n",
      "101979  7ziWZULyiZv2TesYNMFf4g  qQO7ErS_RAN4Vs1uX0L55Q    4.0\n",
      "101980  MCzlzlOw7IGbRAKVjJBPtg  fcGexL5VH5G2Xw0tRj9uOQ    3.0\n",
      "\n",
      "[101190 rows x 3 columns]\n"
     ]
    }
   ],
   "source": [
    "selected_user_ids = random.sample(list(unique_user_ids), 100)\n",
    "selected_reviews = df[df['user_id'].isin(selected_user_ids)]\n",
    "business_ids = selected_reviews['business_id'].unique()\n",
    "selected_business_ids = random.sample(list(business_ids),100)\n",
    "\n",
    "Dtest = selected_reviews[selected_reviews['business_id'].isin(selected_business_ids)]\n",
    "print(Dtest)\n",
    "merged = pd.merge(df,Dtest, on=['user_id','business_id','stars'],how='outer',indicator=True)\n",
    "print(merged)\n",
    "merged = merged.loc[merged['_merge']=='left_only']\n",
    "print(merged)\n",
    "Dtrain = merged.drop('_merge',axis=1)\n",
    "print(Dtrain)\n"
   ]
  },
  {
   "cell_type": "markdown",
   "id": "9ef031b7",
   "metadata": {},
   "source": [
    "#3.3"
   ]
  },
  {
   "cell_type": "code",
   "execution_count": 5,
   "id": "31d0f16d",
   "metadata": {},
   "outputs": [
    {
     "name": "stdout",
     "output_type": "stream",
     "text": [
      "       Unnamed: 0                 user_id             business_id  stars\n",
      "0               3  smOvOajNG0lS4Pq7d8g4JQ  RZtGWDLCAtuipwaZ-UfjmQ    4.0\n",
      "1               5  IQsF3Rc6IgCzjVV9DE8KXg  eFvzHawVJofxSnD7TgbZtg    5.0\n",
      "2              10  ZGjgfSvjQK886kiTzLwfLQ  EtKSTHV5Qx_Q7Aur9o4kQQ    5.0\n",
      "3              11  IKbjLnfBQtEyVzEu8CuOLg  VJEzpfLs_Jnzgqh5A_FVTg    4.0\n",
      "4              13  NUtIAX-ygn474tDg5nmesg  6LCZLGa09Qifn6rG7-DNrg    4.0\n",
      "...           ...                     ...                     ...    ...\n",
      "96589      967542  bJ5FtCtZX3ZZacz2_2PJjA  wMQkdK2aNMvq2xoojC98Mw    4.0\n",
      "96590      967543  bJ5FtCtZX3ZZacz2_2PJjA  SOsjW1JARmtHUFtpFlp8rw    4.0\n",
      "96591      967545  LHWtjTG7e1NzNPYUbUo-9w  rgeuy1qbw6Z8B6CSVANHIA    5.0\n",
      "96592      967550  7ziWZULyiZv2TesYNMFf4g  qQO7ErS_RAN4Vs1uX0L55Q    4.0\n",
      "96593      967551  MCzlzlOw7IGbRAKVjJBPtg  fcGexL5VH5G2Xw0tRj9uOQ    3.0\n",
      "\n",
      "[96594 rows x 4 columns]\n"
     ]
    }
   ],
   "source": [
    "Dtrain = pd.read_csv('train_data.csv')\n",
    "Dtest = pd.read_csv('test_data.csv')\n",
    "#print(Dtest)\n",
    "Btest = Dtest[Dtest['business_id'].isin(selected_business_ids)]\n",
    "print(Dtrain)\n",
    "\n",
    "\n",
    "for row in Dtrain.iterrows():\n",
    "    u=row[1]['user_id']\n",
    "    b=row[1]['business_id']\n",
    "    r=row[1]['stars']\n",
    "    "
   ]
  }
 ],
 "metadata": {
  "kernelspec": {
   "display_name": "Python 3 (ipykernel)",
   "language": "python",
   "name": "python3"
  },
  "language_info": {
   "codemirror_mode": {
    "name": "ipython",
    "version": 3
   },
   "file_extension": ".py",
   "mimetype": "text/x-python",
   "name": "python",
   "nbconvert_exporter": "python",
   "pygments_lexer": "ipython3",
   "version": "3.9.13"
  },
  "vscode": {
   "interpreter": {
    "hash": "35b4ab4068d51c50da5b0c42f38812a329770a0d24d47970619c7521cf6a8da8"
   }
  }
 },
 "nbformat": 4,
 "nbformat_minor": 5
}
