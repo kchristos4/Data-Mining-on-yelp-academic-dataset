{
 "cells": [
  {
   "cell_type": "code",
   "execution_count": 1,
   "id": "744fa49e",
   "metadata": {},
   "outputs": [],
   "source": [
    "import numpy as np\n",
    "import scipy as sp\n",
    "import pandas as pd\n",
    "import matplotlib.pyplot as plt"
   ]
  },
  {
   "cell_type": "markdown",
   "id": "da66cacd",
   "metadata": {},
   "source": [
    "#ASKISI 2.1"
   ]
  },
  {
   "cell_type": "code",
   "execution_count": 2,
   "id": "eb80a2ff",
   "metadata": {},
   "outputs": [
    {
     "name": "stdout",
     "output_type": "stream",
     "text": [
      "(967552, 3) (967552, 3)\n",
      "                       user_id             business_id  stars\n",
      "3       smOvOajNG0lS4Pq7d8g4JQ  RZtGWDLCAtuipwaZ-UfjmQ    4.0\n",
      "5       IQsF3Rc6IgCzjVV9DE8KXg  eFvzHawVJofxSnD7TgbZtg    5.0\n",
      "6       vrKkXsozqqecF3CW4cGaVQ  rjuWz_AD3WfXJc03AhIO_w    5.0\n",
      "7       aFa96pz67TwOFu4Weq5Agg  kq5Ghhh14r-eCxlVmlyd8w    5.0\n",
      "10      ZGjgfSvjQK886kiTzLwfLQ  EtKSTHV5Qx_Q7Aur9o4kQQ    5.0\n",
      "...                        ...                     ...    ...\n",
      "967545  LHWtjTG7e1NzNPYUbUo-9w  rgeuy1qbw6Z8B6CSVANHIA    5.0\n",
      "967546  7-7A0Avj47slLGV7yBFc8w  ytynqOUb3hjKeJfRj5Tshw    3.0\n",
      "967548  am7-gkH_PDz598oTdYSD6A  3gVSrS4kffGGZT8oXHsIcw    3.0\n",
      "967550  7ziWZULyiZv2TesYNMFf4g  qQO7ErS_RAN4Vs1uX0L55Q    4.0\n",
      "967551  MCzlzlOw7IGbRAKVjJBPtg  fcGexL5VH5G2Xw0tRj9uOQ    3.0\n",
      "\n",
      "[302141 rows x 3 columns]\n"
     ]
    }
   ],
   "source": [
    "\n",
    "\n",
    "df = pd.read_csv('phily_users_businesses_stars.csv')\n",
    "df_correct = pd.read_csv('phily_users_businesses_stars_pruned.csv')\n",
    "old_user_shape = df.shape\n",
    "old_business_shape = df.shape\n",
    "new_user_shape =(0,0)\n",
    "new_business_shape = (0,0)\n",
    "print(old_business_shape,old_user_shape)\n",
    "\n",
    "while((old_user_shape!=new_user_shape) or (old_business_shape!=new_business_shape)):\n",
    "    user_counts = df.groupby('user_id')['business_id'].count()\n",
    "    users_to_keep = user_counts[user_counts > 15]\n",
    "    old_user_shape = new_user_shape\n",
    "    new_user_shape = users_to_keep.shape\n",
    "    df = df.loc[df['user_id'].isin(users_to_keep.index)]\n",
    "\n",
    "\n",
    "    business_counts = df.groupby('business_id')['user_id'].count()\n",
    "    businesses_to_keep = business_counts[business_counts > 15]\n",
    "    old_business_shape = new_business_shape\n",
    "    new_business_shape = businesses_to_keep.shape\n",
    "    df = df.loc[df['business_id'].isin(businesses_to_keep.index)]\n",
    "\n",
    "print(df)\n"
   ]
  },
  {
   "cell_type": "markdown",
   "id": "d2f2dfd8",
   "metadata": {},
   "source": [
    "#ASKISI 2.2"
   ]
  },
  {
   "cell_type": "code",
   "execution_count": 3,
   "id": "768fc2f1",
   "metadata": {},
   "outputs": [
    {
     "name": "stdout",
     "output_type": "stream",
     "text": [
      "                       user_id             business_id  stars\n",
      "0       smOvOajNG0lS4Pq7d8g4JQ  RZtGWDLCAtuipwaZ-UfjmQ    4.0\n",
      "1       IQsF3Rc6IgCzjVV9DE8KXg  eFvzHawVJofxSnD7TgbZtg    5.0\n",
      "2       vrKkXsozqqecF3CW4cGaVQ  rjuWz_AD3WfXJc03AhIO_w    5.0\n",
      "3       aFa96pz67TwOFu4Weq5Agg  kq5Ghhh14r-eCxlVmlyd8w    5.0\n",
      "4       ZGjgfSvjQK886kiTzLwfLQ  EtKSTHV5Qx_Q7Aur9o4kQQ    5.0\n",
      "...                        ...                     ...    ...\n",
      "302136  LHWtjTG7e1NzNPYUbUo-9w  rgeuy1qbw6Z8B6CSVANHIA    5.0\n",
      "302137  7-7A0Avj47slLGV7yBFc8w  ytynqOUb3hjKeJfRj5Tshw    3.0\n",
      "302138  am7-gkH_PDz598oTdYSD6A  3gVSrS4kffGGZT8oXHsIcw    3.0\n",
      "302139  7ziWZULyiZv2TesYNMFf4g  qQO7ErS_RAN4Vs1uX0L55Q    4.0\n",
      "302140  MCzlzlOw7IGbRAKVjJBPtg  fcGexL5VH5G2Xw0tRj9uOQ    3.0\n",
      "\n",
      "[302141 rows x 3 columns]\n",
      "                       user_id             business_id  stars\n",
      "250553  EjV7dfiwY6R9c19Aq7o1Sw  qcn10016DUkbgCbQi9L1WA    4.0\n",
      "294138  H6-9VdI6cx4vSu_FeZVR0g  f88R41qxHK65RkDjn3TehA    5.0\n",
      "236182  Ff_whEBw1fOK3RJpnyl9EA  cbr2Db20L6P50CsxsX6c2A    5.0\n",
      "126847  USD9k93iOIB88v93B5iBcw  2f6NaQVGTM59OGvsdT9pxg    4.0\n",
      "223777  Z2pXm4f-2O5ZpMUmXuYK0Q  2fJ-WxJlUN6azp3bzrJ0zA    4.0\n",
      "...                        ...                     ...    ...\n",
      "191358  m1OhStv_gXTx_YbfUqO6JQ  ZDdNEwBENLXBT3jjQD5STQ    5.0\n",
      "44057   0mYNAVDIzW4fzgAQ5opGWg  8j3blTZChklt3j89jxx0fw    4.0\n",
      "144870  WfYGT0-TvctR6t5NGVOJsQ  nDXR7nnWXDlkTvlx3Qbqgw    1.0\n",
      "181853  edZ6kTxithgtctw1crIkBA  mtvT7uRey3F395STFRM1Tg    5.0\n",
      "154152  VYuuNzTWju8D0rr8SvaZjA  YuYvesXrRf1PSp37a5IwUw    1.0\n",
      "\n",
      "[30214 rows x 3 columns]\n",
      "                       user_id             business_id  stars\n",
      "0       smOvOajNG0lS4Pq7d8g4JQ  RZtGWDLCAtuipwaZ-UfjmQ    4.0\n",
      "1       IQsF3Rc6IgCzjVV9DE8KXg  eFvzHawVJofxSnD7TgbZtg    5.0\n",
      "2       vrKkXsozqqecF3CW4cGaVQ  rjuWz_AD3WfXJc03AhIO_w    5.0\n",
      "4       ZGjgfSvjQK886kiTzLwfLQ  EtKSTHV5Qx_Q7Aur9o4kQQ    5.0\n",
      "5       IKbjLnfBQtEyVzEu8CuOLg  VJEzpfLs_Jnzgqh5A_FVTg    4.0\n",
      "...                        ...                     ...    ...\n",
      "302135  ua6QuBe6mar6pDrhHETzJQ  Bk_1vsPtOtO0bojfQZQIOw    2.0\n",
      "302136  LHWtjTG7e1NzNPYUbUo-9w  rgeuy1qbw6Z8B6CSVANHIA    5.0\n",
      "302138  am7-gkH_PDz598oTdYSD6A  3gVSrS4kffGGZT8oXHsIcw    3.0\n",
      "302139  7ziWZULyiZv2TesYNMFf4g  qQO7ErS_RAN4Vs1uX0L55Q    4.0\n",
      "302140  MCzlzlOw7IGbRAKVjJBPtg  fcGexL5VH5G2Xw0tRj9uOQ    3.0\n",
      "\n",
      "[271927 rows x 3 columns]\n"
     ]
    }
   ],
   "source": [
    "df_test = df_correct.sample(frac=0.1)\n",
    "df_train = df_correct[~df_correct.isin(df_test)].dropna()\n",
    "\n",
    "print(df_correct)\n",
    "print(df_test)\n",
    "print(df_train)\n",
    "\n",
    "df_test = pd.read_csv('phily_users_businesses_stars_test.csv')\n",
    "df_train = pd.read_csv('phily_users_businesses_stars_train.csv')\n"
   ]
  },
  {
   "cell_type": "markdown",
   "id": "bfa6d0b6",
   "metadata": {},
   "source": [
    "#ASKISI 2.3"
   ]
  },
  {
   "cell_type": "code",
   "execution_count": 4,
   "id": "576ec088",
   "metadata": {},
   "outputs": [
    {
     "name": "stdout",
     "output_type": "stream",
     "text": [
      "                      user_id             business_id  stars  \\\n",
      "0      R9NSKwzn9zaoUJ-M5ck-jA  1iQpAAWmGp6yJCNr-7DMRQ    1.0   \n",
      "1      e7BDAtmMfKtKhCcgosORIQ  PxG1rLAfbvtoAWrsq5Rhog    5.0   \n",
      "2      7lvzAZV2qTnoj3q2oI0mqQ  ITOkOiX-hfsazVPpFFQVJA    4.0   \n",
      "3      FkaBNfCc2dRyQ2qXhsXXtg  rIqkOMxkeoqvUzl909gNmQ    2.0   \n",
      "4      YqjW3aqnM2fUyyDHYnuiiQ  RLoGgt2GGC8wHpZ7K2ZbRA    4.0   \n",
      "...                       ...                     ...    ...   \n",
      "30209  DMx9EJox_ZlUHgrQE5JvGw  Z8qGOmU8YxDjLPBbrz84Yw    5.0   \n",
      "30210  7k9LIe1J83QapGgUd1UjrQ  zfn7V7FVH5_J5A9dInfbnA    3.0   \n",
      "30211  eod1mk6q1p155DTZqLoRqg  2EMTsTg8876QbtIGDH-69w    2.0   \n",
      "30212  3vhgB61xMkj5TzBvwzPTMw  bN_9QgxdOIk4oK-6fBDJtQ    5.0   \n",
      "30213  UZOm2svtUK-lGt4oTvh4LA  g2zwbLIqxtN9nGGuL43trg    5.0   \n",
      "\n",
      "       predicted_stars_business  predicted_stars_users  \n",
      "0                      2.270833               2.821429  \n",
      "1                      4.776119               3.040000  \n",
      "2                      3.721739               4.101695  \n",
      "3                      3.526316               4.125000  \n",
      "4                      3.442857               4.781250  \n",
      "...                         ...                    ...  \n",
      "30209                  4.479508               3.769231  \n",
      "30210                  3.684211               4.083333  \n",
      "30211                  3.320000               4.466667  \n",
      "30212                  3.869128               4.538462  \n",
      "30213                  3.857820               4.134328  \n",
      "\n",
      "[30214 rows x 5 columns]\n",
      "root mean squared error : 1.0474294959962005\n",
      "root mean squared error : 1.0055572526079652\n"
     ]
    }
   ],
   "source": [
    "average_stars_by_user = df_train.groupby(\"user_id\")[\"stars\"].mean()\n",
    "average_stars_by_business = df_train.groupby(\"business_id\")[\"stars\"].mean()\n",
    "\n",
    "def predict_stars_users(user_id,business_id):\n",
    "    average_stars_user = average_stars_by_user.get(user_id)\n",
    "    if pd.isna(average_stars_user):\n",
    "        return 0\n",
    "    else:\n",
    "        return average_stars_user\n",
    "\n",
    "def predict_stars_business(user_id,business_id):\n",
    "    average_stars_business = average_stars_by_business.get(business_id)\n",
    "    if pd.isna(average_stars_business):\n",
    "        return 0\n",
    "    else:\n",
    "        return average_stars_business\n",
    "\n",
    "\n",
    "df_test['predicted_stars_business'] = df_test.apply(lambda x: predict_stars_business(x['user_id'],x['business_id']), axis=1)\n",
    "df_test['predicted_stars_users'] = df_test.apply(lambda x: predict_stars_users(x['user_id'],x['business_id']), axis=1)\n",
    "\n",
    "#df_test = df_test.dropna(subset=['predicted_stars_users'])\n",
    "print(df_test)\n",
    "\n",
    "#RMSE USER AVERAGE\n",
    "df_test['difference1'] = df_test['stars'] - df_test['predicted_stars_users']\n",
    "df_test['diff_squared1'] = df_test['difference1']**2\n",
    "mse1 = df_test['diff_squared1'].mean()\n",
    "rmse1 = np.sqrt(mse1)\n",
    "print(\"root mean squared error :\",rmse1)\n",
    "\n",
    "#RMSE BUSINESS AVERAGE\n",
    "df_test['difference2'] = df_test['stars'] - df_test['predicted_stars_business']\n",
    "df_test['diff_squared2'] = df_test['difference2']**2\n",
    "mse2 = df_test['diff_squared2'].mean()\n",
    "rmse2 = np.sqrt(mse2)\n",
    "print(\"root mean squared error :\",rmse2)\n",
    "\n",
    "df_test = df_test.drop('difference1',axis=1)\n",
    "df_test = df_test.drop('difference2',axis=1)\n",
    "df_test = df_test.drop('diff_squared1',axis=1)\n",
    "df_test = df_test.drop('diff_squared2',axis=1)\n",
    "df_test = df_test.drop('predicted_stars_users',axis=1)\n",
    "df_test = df_test.drop('predicted_stars_business',axis=1)\n"
   ]
  },
  {
   "cell_type": "markdown",
   "id": "725f20a8",
   "metadata": {},
   "source": [
    "#ASKISI 2.4"
   ]
  },
  {
   "cell_type": "code",
   "execution_count": 5,
   "id": "becd119f",
   "metadata": {},
   "outputs": [
    {
     "name": "stdout",
     "output_type": "stream",
     "text": [
      "SVD for k= 1\n"
     ]
    },
    {
     "name": "stderr",
     "output_type": "stream",
     "text": [
      "C:\\Users\\Mainframe\\AppData\\Local\\Temp\\ipykernel_4948\\203747960.py:33: SettingWithCopyWarning: \n",
      "A value is trying to be set on a copy of a slice from a DataFrame.\n",
      "Try using .loc[row_indexer,col_indexer] = value instead\n",
      "\n",
      "See the caveats in the documentation: https://pandas.pydata.org/pandas-docs/stable/user_guide/indexing.html#returning-a-view-versus-a-copy\n",
      "  df_train['k_'+str(i)] = df_train.apply(lambda x: SVD(x['user_id'],x['business_id']), axis=1)\n",
      "C:\\Users\\Mainframe\\AppData\\Local\\Temp\\ipykernel_4948\\203747960.py:34: SettingWithCopyWarning: \n",
      "A value is trying to be set on a copy of a slice from a DataFrame.\n",
      "Try using .loc[row_indexer,col_indexer] = value instead\n",
      "\n",
      "See the caveats in the documentation: https://pandas.pydata.org/pandas-docs/stable/user_guide/indexing.html#returning-a-view-versus-a-copy\n",
      "  df_train['difference'+str(i)] = df_train['stars'] - df_train['k_'+str(i)]\n",
      "C:\\Users\\Mainframe\\AppData\\Local\\Temp\\ipykernel_4948\\203747960.py:35: SettingWithCopyWarning: \n",
      "A value is trying to be set on a copy of a slice from a DataFrame.\n",
      "Try using .loc[row_indexer,col_indexer] = value instead\n",
      "\n",
      "See the caveats in the documentation: https://pandas.pydata.org/pandas-docs/stable/user_guide/indexing.html#returning-a-view-versus-a-copy\n",
      "  df_train['diff_squared'+str(i)] = df_train['difference'+str(i)]**2\n"
     ]
    },
    {
     "name": "stdout",
     "output_type": "stream",
     "text": [
      "SVD for k= 10\n"
     ]
    },
    {
     "name": "stderr",
     "output_type": "stream",
     "text": [
      "C:\\Users\\Mainframe\\AppData\\Local\\Temp\\ipykernel_4948\\203747960.py:33: SettingWithCopyWarning: \n",
      "A value is trying to be set on a copy of a slice from a DataFrame.\n",
      "Try using .loc[row_indexer,col_indexer] = value instead\n",
      "\n",
      "See the caveats in the documentation: https://pandas.pydata.org/pandas-docs/stable/user_guide/indexing.html#returning-a-view-versus-a-copy\n",
      "  df_train['k_'+str(i)] = df_train.apply(lambda x: SVD(x['user_id'],x['business_id']), axis=1)\n",
      "C:\\Users\\Mainframe\\AppData\\Local\\Temp\\ipykernel_4948\\203747960.py:34: SettingWithCopyWarning: \n",
      "A value is trying to be set on a copy of a slice from a DataFrame.\n",
      "Try using .loc[row_indexer,col_indexer] = value instead\n",
      "\n",
      "See the caveats in the documentation: https://pandas.pydata.org/pandas-docs/stable/user_guide/indexing.html#returning-a-view-versus-a-copy\n",
      "  df_train['difference'+str(i)] = df_train['stars'] - df_train['k_'+str(i)]\n",
      "C:\\Users\\Mainframe\\AppData\\Local\\Temp\\ipykernel_4948\\203747960.py:35: SettingWithCopyWarning: \n",
      "A value is trying to be set on a copy of a slice from a DataFrame.\n",
      "Try using .loc[row_indexer,col_indexer] = value instead\n",
      "\n",
      "See the caveats in the documentation: https://pandas.pydata.org/pandas-docs/stable/user_guide/indexing.html#returning-a-view-versus-a-copy\n",
      "  df_train['diff_squared'+str(i)] = df_train['difference'+str(i)]**2\n"
     ]
    },
    {
     "name": "stdout",
     "output_type": "stream",
     "text": [
      "SVD for k= 20\n"
     ]
    },
    {
     "name": "stderr",
     "output_type": "stream",
     "text": [
      "C:\\Users\\Mainframe\\AppData\\Local\\Temp\\ipykernel_4948\\203747960.py:33: SettingWithCopyWarning: \n",
      "A value is trying to be set on a copy of a slice from a DataFrame.\n",
      "Try using .loc[row_indexer,col_indexer] = value instead\n",
      "\n",
      "See the caveats in the documentation: https://pandas.pydata.org/pandas-docs/stable/user_guide/indexing.html#returning-a-view-versus-a-copy\n",
      "  df_train['k_'+str(i)] = df_train.apply(lambda x: SVD(x['user_id'],x['business_id']), axis=1)\n",
      "C:\\Users\\Mainframe\\AppData\\Local\\Temp\\ipykernel_4948\\203747960.py:34: SettingWithCopyWarning: \n",
      "A value is trying to be set on a copy of a slice from a DataFrame.\n",
      "Try using .loc[row_indexer,col_indexer] = value instead\n",
      "\n",
      "See the caveats in the documentation: https://pandas.pydata.org/pandas-docs/stable/user_guide/indexing.html#returning-a-view-versus-a-copy\n",
      "  df_train['difference'+str(i)] = df_train['stars'] - df_train['k_'+str(i)]\n",
      "C:\\Users\\Mainframe\\AppData\\Local\\Temp\\ipykernel_4948\\203747960.py:35: SettingWithCopyWarning: \n",
      "A value is trying to be set on a copy of a slice from a DataFrame.\n",
      "Try using .loc[row_indexer,col_indexer] = value instead\n",
      "\n",
      "See the caveats in the documentation: https://pandas.pydata.org/pandas-docs/stable/user_guide/indexing.html#returning-a-view-versus-a-copy\n",
      "  df_train['diff_squared'+str(i)] = df_train['difference'+str(i)]**2\n"
     ]
    },
    {
     "name": "stdout",
     "output_type": "stream",
     "text": [
      "SVD for k= 30\n"
     ]
    },
    {
     "name": "stderr",
     "output_type": "stream",
     "text": [
      "C:\\Users\\Mainframe\\AppData\\Local\\Temp\\ipykernel_4948\\203747960.py:33: SettingWithCopyWarning: \n",
      "A value is trying to be set on a copy of a slice from a DataFrame.\n",
      "Try using .loc[row_indexer,col_indexer] = value instead\n",
      "\n",
      "See the caveats in the documentation: https://pandas.pydata.org/pandas-docs/stable/user_guide/indexing.html#returning-a-view-versus-a-copy\n",
      "  df_train['k_'+str(i)] = df_train.apply(lambda x: SVD(x['user_id'],x['business_id']), axis=1)\n",
      "C:\\Users\\Mainframe\\AppData\\Local\\Temp\\ipykernel_4948\\203747960.py:34: SettingWithCopyWarning: \n",
      "A value is trying to be set on a copy of a slice from a DataFrame.\n",
      "Try using .loc[row_indexer,col_indexer] = value instead\n",
      "\n",
      "See the caveats in the documentation: https://pandas.pydata.org/pandas-docs/stable/user_guide/indexing.html#returning-a-view-versus-a-copy\n",
      "  df_train['difference'+str(i)] = df_train['stars'] - df_train['k_'+str(i)]\n",
      "C:\\Users\\Mainframe\\AppData\\Local\\Temp\\ipykernel_4948\\203747960.py:35: SettingWithCopyWarning: \n",
      "A value is trying to be set on a copy of a slice from a DataFrame.\n",
      "Try using .loc[row_indexer,col_indexer] = value instead\n",
      "\n",
      "See the caveats in the documentation: https://pandas.pydata.org/pandas-docs/stable/user_guide/indexing.html#returning-a-view-versus-a-copy\n",
      "  df_train['diff_squared'+str(i)] = df_train['difference'+str(i)]**2\n"
     ]
    },
    {
     "name": "stdout",
     "output_type": "stream",
     "text": [
      "SVD for k= 40\n"
     ]
    },
    {
     "name": "stderr",
     "output_type": "stream",
     "text": [
      "C:\\Users\\Mainframe\\AppData\\Local\\Temp\\ipykernel_4948\\203747960.py:33: SettingWithCopyWarning: \n",
      "A value is trying to be set on a copy of a slice from a DataFrame.\n",
      "Try using .loc[row_indexer,col_indexer] = value instead\n",
      "\n",
      "See the caveats in the documentation: https://pandas.pydata.org/pandas-docs/stable/user_guide/indexing.html#returning-a-view-versus-a-copy\n",
      "  df_train['k_'+str(i)] = df_train.apply(lambda x: SVD(x['user_id'],x['business_id']), axis=1)\n",
      "C:\\Users\\Mainframe\\AppData\\Local\\Temp\\ipykernel_4948\\203747960.py:34: SettingWithCopyWarning: \n",
      "A value is trying to be set on a copy of a slice from a DataFrame.\n",
      "Try using .loc[row_indexer,col_indexer] = value instead\n",
      "\n",
      "See the caveats in the documentation: https://pandas.pydata.org/pandas-docs/stable/user_guide/indexing.html#returning-a-view-versus-a-copy\n",
      "  df_train['difference'+str(i)] = df_train['stars'] - df_train['k_'+str(i)]\n",
      "C:\\Users\\Mainframe\\AppData\\Local\\Temp\\ipykernel_4948\\203747960.py:35: SettingWithCopyWarning: \n",
      "A value is trying to be set on a copy of a slice from a DataFrame.\n",
      "Try using .loc[row_indexer,col_indexer] = value instead\n",
      "\n",
      "See the caveats in the documentation: https://pandas.pydata.org/pandas-docs/stable/user_guide/indexing.html#returning-a-view-versus-a-copy\n",
      "  df_train['diff_squared'+str(i)] = df_train['difference'+str(i)]**2\n"
     ]
    },
    {
     "name": "stdout",
     "output_type": "stream",
     "text": [
      "SVD for k= 50\n"
     ]
    },
    {
     "name": "stderr",
     "output_type": "stream",
     "text": [
      "C:\\Users\\Mainframe\\AppData\\Local\\Temp\\ipykernel_4948\\203747960.py:33: SettingWithCopyWarning: \n",
      "A value is trying to be set on a copy of a slice from a DataFrame.\n",
      "Try using .loc[row_indexer,col_indexer] = value instead\n",
      "\n",
      "See the caveats in the documentation: https://pandas.pydata.org/pandas-docs/stable/user_guide/indexing.html#returning-a-view-versus-a-copy\n",
      "  df_train['k_'+str(i)] = df_train.apply(lambda x: SVD(x['user_id'],x['business_id']), axis=1)\n",
      "C:\\Users\\Mainframe\\AppData\\Local\\Temp\\ipykernel_4948\\203747960.py:34: SettingWithCopyWarning: \n",
      "A value is trying to be set on a copy of a slice from a DataFrame.\n",
      "Try using .loc[row_indexer,col_indexer] = value instead\n",
      "\n",
      "See the caveats in the documentation: https://pandas.pydata.org/pandas-docs/stable/user_guide/indexing.html#returning-a-view-versus-a-copy\n",
      "  df_train['difference'+str(i)] = df_train['stars'] - df_train['k_'+str(i)]\n",
      "C:\\Users\\Mainframe\\AppData\\Local\\Temp\\ipykernel_4948\\203747960.py:35: SettingWithCopyWarning: \n",
      "A value is trying to be set on a copy of a slice from a DataFrame.\n",
      "Try using .loc[row_indexer,col_indexer] = value instead\n",
      "\n",
      "See the caveats in the documentation: https://pandas.pydata.org/pandas-docs/stable/user_guide/indexing.html#returning-a-view-versus-a-copy\n",
      "  df_train['diff_squared'+str(i)] = df_train['difference'+str(i)]**2\n"
     ]
    },
    {
     "name": "stdout",
     "output_type": "stream",
     "text": [
      "SVD for k= 60\n"
     ]
    },
    {
     "name": "stderr",
     "output_type": "stream",
     "text": [
      "C:\\Users\\Mainframe\\AppData\\Local\\Temp\\ipykernel_4948\\203747960.py:33: SettingWithCopyWarning: \n",
      "A value is trying to be set on a copy of a slice from a DataFrame.\n",
      "Try using .loc[row_indexer,col_indexer] = value instead\n",
      "\n",
      "See the caveats in the documentation: https://pandas.pydata.org/pandas-docs/stable/user_guide/indexing.html#returning-a-view-versus-a-copy\n",
      "  df_train['k_'+str(i)] = df_train.apply(lambda x: SVD(x['user_id'],x['business_id']), axis=1)\n",
      "C:\\Users\\Mainframe\\AppData\\Local\\Temp\\ipykernel_4948\\203747960.py:34: SettingWithCopyWarning: \n",
      "A value is trying to be set on a copy of a slice from a DataFrame.\n",
      "Try using .loc[row_indexer,col_indexer] = value instead\n",
      "\n",
      "See the caveats in the documentation: https://pandas.pydata.org/pandas-docs/stable/user_guide/indexing.html#returning-a-view-versus-a-copy\n",
      "  df_train['difference'+str(i)] = df_train['stars'] - df_train['k_'+str(i)]\n",
      "C:\\Users\\Mainframe\\AppData\\Local\\Temp\\ipykernel_4948\\203747960.py:35: SettingWithCopyWarning: \n",
      "A value is trying to be set on a copy of a slice from a DataFrame.\n",
      "Try using .loc[row_indexer,col_indexer] = value instead\n",
      "\n",
      "See the caveats in the documentation: https://pandas.pydata.org/pandas-docs/stable/user_guide/indexing.html#returning-a-view-versus-a-copy\n",
      "  df_train['diff_squared'+str(i)] = df_train['difference'+str(i)]**2\n"
     ]
    },
    {
     "name": "stdout",
     "output_type": "stream",
     "text": [
      "SVD for k= 70\n"
     ]
    },
    {
     "name": "stderr",
     "output_type": "stream",
     "text": [
      "C:\\Users\\Mainframe\\AppData\\Local\\Temp\\ipykernel_4948\\203747960.py:33: SettingWithCopyWarning: \n",
      "A value is trying to be set on a copy of a slice from a DataFrame.\n",
      "Try using .loc[row_indexer,col_indexer] = value instead\n",
      "\n",
      "See the caveats in the documentation: https://pandas.pydata.org/pandas-docs/stable/user_guide/indexing.html#returning-a-view-versus-a-copy\n",
      "  df_train['k_'+str(i)] = df_train.apply(lambda x: SVD(x['user_id'],x['business_id']), axis=1)\n",
      "C:\\Users\\Mainframe\\AppData\\Local\\Temp\\ipykernel_4948\\203747960.py:34: SettingWithCopyWarning: \n",
      "A value is trying to be set on a copy of a slice from a DataFrame.\n",
      "Try using .loc[row_indexer,col_indexer] = value instead\n",
      "\n",
      "See the caveats in the documentation: https://pandas.pydata.org/pandas-docs/stable/user_guide/indexing.html#returning-a-view-versus-a-copy\n",
      "  df_train['difference'+str(i)] = df_train['stars'] - df_train['k_'+str(i)]\n",
      "C:\\Users\\Mainframe\\AppData\\Local\\Temp\\ipykernel_4948\\203747960.py:35: SettingWithCopyWarning: \n",
      "A value is trying to be set on a copy of a slice from a DataFrame.\n",
      "Try using .loc[row_indexer,col_indexer] = value instead\n",
      "\n",
      "See the caveats in the documentation: https://pandas.pydata.org/pandas-docs/stable/user_guide/indexing.html#returning-a-view-versus-a-copy\n",
      "  df_train['diff_squared'+str(i)] = df_train['difference'+str(i)]**2\n"
     ]
    },
    {
     "name": "stdout",
     "output_type": "stream",
     "text": [
      "SVD for k= 80\n"
     ]
    },
    {
     "name": "stderr",
     "output_type": "stream",
     "text": [
      "C:\\Users\\Mainframe\\AppData\\Local\\Temp\\ipykernel_4948\\203747960.py:33: SettingWithCopyWarning: \n",
      "A value is trying to be set on a copy of a slice from a DataFrame.\n",
      "Try using .loc[row_indexer,col_indexer] = value instead\n",
      "\n",
      "See the caveats in the documentation: https://pandas.pydata.org/pandas-docs/stable/user_guide/indexing.html#returning-a-view-versus-a-copy\n",
      "  df_train['k_'+str(i)] = df_train.apply(lambda x: SVD(x['user_id'],x['business_id']), axis=1)\n",
      "C:\\Users\\Mainframe\\AppData\\Local\\Temp\\ipykernel_4948\\203747960.py:34: SettingWithCopyWarning: \n",
      "A value is trying to be set on a copy of a slice from a DataFrame.\n",
      "Try using .loc[row_indexer,col_indexer] = value instead\n",
      "\n",
      "See the caveats in the documentation: https://pandas.pydata.org/pandas-docs/stable/user_guide/indexing.html#returning-a-view-versus-a-copy\n",
      "  df_train['difference'+str(i)] = df_train['stars'] - df_train['k_'+str(i)]\n",
      "C:\\Users\\Mainframe\\AppData\\Local\\Temp\\ipykernel_4948\\203747960.py:35: SettingWithCopyWarning: \n",
      "A value is trying to be set on a copy of a slice from a DataFrame.\n",
      "Try using .loc[row_indexer,col_indexer] = value instead\n",
      "\n",
      "See the caveats in the documentation: https://pandas.pydata.org/pandas-docs/stable/user_guide/indexing.html#returning-a-view-versus-a-copy\n",
      "  df_train['diff_squared'+str(i)] = df_train['difference'+str(i)]**2\n"
     ]
    },
    {
     "name": "stdout",
     "output_type": "stream",
     "text": [
      "SVD for k= 90\n"
     ]
    },
    {
     "name": "stderr",
     "output_type": "stream",
     "text": [
      "C:\\Users\\Mainframe\\AppData\\Local\\Temp\\ipykernel_4948\\203747960.py:33: SettingWithCopyWarning: \n",
      "A value is trying to be set on a copy of a slice from a DataFrame.\n",
      "Try using .loc[row_indexer,col_indexer] = value instead\n",
      "\n",
      "See the caveats in the documentation: https://pandas.pydata.org/pandas-docs/stable/user_guide/indexing.html#returning-a-view-versus-a-copy\n",
      "  df_train['k_'+str(i)] = df_train.apply(lambda x: SVD(x['user_id'],x['business_id']), axis=1)\n",
      "C:\\Users\\Mainframe\\AppData\\Local\\Temp\\ipykernel_4948\\203747960.py:34: SettingWithCopyWarning: \n",
      "A value is trying to be set on a copy of a slice from a DataFrame.\n",
      "Try using .loc[row_indexer,col_indexer] = value instead\n",
      "\n",
      "See the caveats in the documentation: https://pandas.pydata.org/pandas-docs/stable/user_guide/indexing.html#returning-a-view-versus-a-copy\n",
      "  df_train['difference'+str(i)] = df_train['stars'] - df_train['k_'+str(i)]\n",
      "C:\\Users\\Mainframe\\AppData\\Local\\Temp\\ipykernel_4948\\203747960.py:35: SettingWithCopyWarning: \n",
      "A value is trying to be set on a copy of a slice from a DataFrame.\n",
      "Try using .loc[row_indexer,col_indexer] = value instead\n",
      "\n",
      "See the caveats in the documentation: https://pandas.pydata.org/pandas-docs/stable/user_guide/indexing.html#returning-a-view-versus-a-copy\n",
      "  df_train['diff_squared'+str(i)] = df_train['difference'+str(i)]**2\n"
     ]
    },
    {
     "name": "stdout",
     "output_type": "stream",
     "text": [
      "SVD for k= 100\n"
     ]
    },
    {
     "name": "stderr",
     "output_type": "stream",
     "text": [
      "C:\\Users\\Mainframe\\AppData\\Local\\Temp\\ipykernel_4948\\203747960.py:33: SettingWithCopyWarning: \n",
      "A value is trying to be set on a copy of a slice from a DataFrame.\n",
      "Try using .loc[row_indexer,col_indexer] = value instead\n",
      "\n",
      "See the caveats in the documentation: https://pandas.pydata.org/pandas-docs/stable/user_guide/indexing.html#returning-a-view-versus-a-copy\n",
      "  df_train['k_'+str(i)] = df_train.apply(lambda x: SVD(x['user_id'],x['business_id']), axis=1)\n",
      "C:\\Users\\Mainframe\\AppData\\Local\\Temp\\ipykernel_4948\\203747960.py:34: SettingWithCopyWarning: \n",
      "A value is trying to be set on a copy of a slice from a DataFrame.\n",
      "Try using .loc[row_indexer,col_indexer] = value instead\n",
      "\n",
      "See the caveats in the documentation: https://pandas.pydata.org/pandas-docs/stable/user_guide/indexing.html#returning-a-view-versus-a-copy\n",
      "  df_train['difference'+str(i)] = df_train['stars'] - df_train['k_'+str(i)]\n",
      "C:\\Users\\Mainframe\\AppData\\Local\\Temp\\ipykernel_4948\\203747960.py:35: SettingWithCopyWarning: \n",
      "A value is trying to be set on a copy of a slice from a DataFrame.\n",
      "Try using .loc[row_indexer,col_indexer] = value instead\n",
      "\n",
      "See the caveats in the documentation: https://pandas.pydata.org/pandas-docs/stable/user_guide/indexing.html#returning-a-view-versus-a-copy\n",
      "  df_train['diff_squared'+str(i)] = df_train['difference'+str(i)]**2\n"
     ]
    },
    {
     "data": {
      "image/png": "[encoded data removed]",
      "text/plain": [
       "<Figure size 640x480 with 1 Axes>"
      ]
     },
     "metadata": {},
     "output_type": "display_data"
    },
    {
     "name": "stdout",
     "output_type": "stream",
     "text": [
      "Min RMSE :  3.2815251570587325\n"
     ]
    }
   ],
   "source": [
    "from scipy.sparse import coo_matrix\n",
    "import scipy.sparse.linalg\n",
    "\n",
    "merged_df = pd.concat([df_train,df_test], axis=0)\n",
    "\n",
    "merged_df['user_id'] = merged_df['user_id'].factorize()[0]\n",
    "merged_df['business_id'] = merged_df['business_id'].factorize()[0]\n",
    "\n",
    "df_train = merged_df.iloc[:len(df_train)]\n",
    "df_test = merged_df.iloc[len(df_train):]\n",
    "\n",
    "range_of_k = [1,10,20,30,40,50,60,70,80,90,100]\n",
    "\n",
    "\n",
    "rows = df_train['user_id'].astype(int)\n",
    "cols = df_train['business_id'].astype(int)\n",
    "values = pd.to_numeric(df_train['stars'])\n",
    "\n",
    "R = coo_matrix((values,(rows,cols)))\n",
    "\n",
    "k=100\n",
    "#U, S, V = sp.sparse.linalg.svds(R,k=100)\n",
    "\n",
    "\n",
    "def SVD(user_id,business_id):\n",
    "    result = np.dot(np.dot(U[int(user_id),:],np.diag(S)),V[:,int(business_id)])\n",
    "    return result\n",
    "rmse_matrix = []\n",
    "\n",
    "for i in range_of_k:\n",
    "    print(\"SVD for k=\",i)\n",
    "    U, S, V = sp.sparse.linalg.svds(R,k=i)\n",
    "    df_train['k_'+str(i)] = df_train.apply(lambda x: SVD(x['user_id'],x['business_id']), axis=1)\n",
    "    df_train['difference'+str(i)] = df_train['stars'] - df_train['k_'+str(i)]\n",
    "    df_train['diff_squared'+str(i)] = df_train['difference'+str(i)]**2\n",
    "    mse = df_train['diff_squared'+str(i)].mean()\n",
    "    rmse = np.sqrt(mse)\n",
    "    if(rmse>=5):\n",
    "        rmse = 5\n",
    "    elif(rmse<=0):\n",
    "        rmse = 0\n",
    "    rmse_matrix.append(rmse)\n",
    "\n",
    "k_values = [int(i) for i in range_of_k]\n",
    "\n",
    "plt.plot(k_values,rmse_matrix)\n",
    "plt.show()\n",
    "print(\"Min RMSE : \",min(rmse_matrix))\n",
    "\n",
    "    \n",
    " \n",
    "\n",
    "\n"
   ]
  },
  {
   "cell_type": "markdown",
   "id": "ccf66eae",
   "metadata": {},
   "source": [
    "#ASKISI 2.5\n"
   ]
  },
  {
   "cell_type": "code",
   "execution_count": 7,
   "id": "a911e98d",
   "metadata": {
    "scrolled": false
   },
   "outputs": [
    {
     "ename": "KeyboardInterrupt",
     "evalue": "",
     "output_type": "error",
     "traceback": [
      "\u001b[1;31m---------------------------------------------------------------------------\u001b[0m",
      "\u001b[1;31mKeyboardInterrupt\u001b[0m                         Traceback (most recent call last)",
      "\u001b[1;32m~\\AppData\\Local\\Temp\\ipykernel_4948\\2990271021.py\u001b[0m in \u001b[0;36m<module>\u001b[1;34m\u001b[0m\n\u001b[0;32m     66\u001b[0m \u001b[1;33m\u001b[0m\u001b[0m\n\u001b[0;32m     67\u001b[0m \u001b[1;33m\u001b[0m\u001b[0m\n\u001b[1;32m---> 68\u001b[1;33m \u001b[0mdf_test\u001b[0m\u001b[1;33m[\u001b[0m\u001b[1;34m'prediction'\u001b[0m\u001b[1;33m]\u001b[0m \u001b[1;33m=\u001b[0m \u001b[0mdf_test\u001b[0m\u001b[1;33m.\u001b[0m\u001b[0mapply\u001b[0m\u001b[1;33m(\u001b[0m\u001b[1;32mlambda\u001b[0m \u001b[0mz\u001b[0m\u001b[1;33m:\u001b[0m \u001b[0mpredict\u001b[0m\u001b[1;33m(\u001b[0m\u001b[0mz\u001b[0m\u001b[1;33m[\u001b[0m\u001b[1;34m\"user_id\"\u001b[0m\u001b[1;33m]\u001b[0m\u001b[1;33m,\u001b[0m\u001b[0mz\u001b[0m\u001b[1;33m[\u001b[0m\u001b[1;34m\"business_id\"\u001b[0m\u001b[1;33m]\u001b[0m\u001b[1;33m,\u001b[0m\u001b[1;36m10\u001b[0m\u001b[1;33m)\u001b[0m\u001b[1;33m,\u001b[0m \u001b[0maxis\u001b[0m\u001b[1;33m=\u001b[0m\u001b[1;36m1\u001b[0m\u001b[1;33m)\u001b[0m\u001b[1;33m\u001b[0m\u001b[1;33m\u001b[0m\u001b[0m\n\u001b[0m\u001b[0;32m     69\u001b[0m \u001b[0mprint\u001b[0m\u001b[1;33m(\u001b[0m\u001b[0mdf_test\u001b[0m\u001b[1;33m[\u001b[0m\u001b[1;34m'prediction'\u001b[0m\u001b[1;33m]\u001b[0m\u001b[1;33m)\u001b[0m\u001b[1;33m\u001b[0m\u001b[1;33m\u001b[0m\u001b[0m\n\u001b[0;32m     70\u001b[0m \u001b[1;33m\u001b[0m\u001b[0m\n",
      "\u001b[1;32m~\\anaconda3\\lib\\site-packages\\pandas\\core\\frame.py\u001b[0m in \u001b[0;36mapply\u001b[1;34m(self, func, axis, raw, result_type, args, **kwargs)\u001b[0m\n\u001b[0;32m   8846\u001b[0m             \u001b[0mkwargs\u001b[0m\u001b[1;33m=\u001b[0m\u001b[0mkwargs\u001b[0m\u001b[1;33m,\u001b[0m\u001b[1;33m\u001b[0m\u001b[1;33m\u001b[0m\u001b[0m\n\u001b[0;32m   8847\u001b[0m         )\n\u001b[1;32m-> 8848\u001b[1;33m         \u001b[1;32mreturn\u001b[0m \u001b[0mop\u001b[0m\u001b[1;33m.\u001b[0m\u001b[0mapply\u001b[0m\u001b[1;33m(\u001b[0m\u001b[1;33m)\u001b[0m\u001b[1;33m.\u001b[0m\u001b[0m__finalize__\u001b[0m\u001b[1;33m(\u001b[0m\u001b[0mself\u001b[0m\u001b[1;33m,\u001b[0m \u001b[0mmethod\u001b[0m\u001b[1;33m=\u001b[0m\u001b[1;34m\"apply\"\u001b[0m\u001b[1;33m)\u001b[0m\u001b[1;33m\u001b[0m\u001b[1;33m\u001b[0m\u001b[0m\n\u001b[0m\u001b[0;32m   8849\u001b[0m \u001b[1;33m\u001b[0m\u001b[0m\n\u001b[0;32m   8850\u001b[0m     def applymap(\n",
      "\u001b[1;32m~\\anaconda3\\lib\\site-packages\\pandas\\core\\apply.py\u001b[0m in \u001b[0;36mapply\u001b[1;34m(self)\u001b[0m\n\u001b[0;32m    731\u001b[0m             \u001b[1;32mreturn\u001b[0m \u001b[0mself\u001b[0m\u001b[1;33m.\u001b[0m\u001b[0mapply_raw\u001b[0m\u001b[1;33m(\u001b[0m\u001b[1;33m)\u001b[0m\u001b[1;33m\u001b[0m\u001b[1;33m\u001b[0m\u001b[0m\n\u001b[0;32m    732\u001b[0m \u001b[1;33m\u001b[0m\u001b[0m\n\u001b[1;32m--> 733\u001b[1;33m         \u001b[1;32mreturn\u001b[0m \u001b[0mself\u001b[0m\u001b[1;33m.\u001b[0m\u001b[0mapply_standard\u001b[0m\u001b[1;33m(\u001b[0m\u001b[1;33m)\u001b[0m\u001b[1;33m\u001b[0m\u001b[1;33m\u001b[0m\u001b[0m\n\u001b[0m\u001b[0;32m    734\u001b[0m \u001b[1;33m\u001b[0m\u001b[0m\n\u001b[0;32m    735\u001b[0m     \u001b[1;32mdef\u001b[0m \u001b[0magg\u001b[0m\u001b[1;33m(\u001b[0m\u001b[0mself\u001b[0m\u001b[1;33m)\u001b[0m\u001b[1;33m:\u001b[0m\u001b[1;33m\u001b[0m\u001b[1;33m\u001b[0m\u001b[0m\n",
      "\u001b[1;32m~\\anaconda3\\lib\\site-packages\\pandas\\core\\apply.py\u001b[0m in \u001b[0;36mapply_standard\u001b[1;34m(self)\u001b[0m\n\u001b[0;32m    855\u001b[0m \u001b[1;33m\u001b[0m\u001b[0m\n\u001b[0;32m    856\u001b[0m     \u001b[1;32mdef\u001b[0m \u001b[0mapply_standard\u001b[0m\u001b[1;33m(\u001b[0m\u001b[0mself\u001b[0m\u001b[1;33m)\u001b[0m\u001b[1;33m:\u001b[0m\u001b[1;33m\u001b[0m\u001b[1;33m\u001b[0m\u001b[0m\n\u001b[1;32m--> 857\u001b[1;33m         \u001b[0mresults\u001b[0m\u001b[1;33m,\u001b[0m \u001b[0mres_index\u001b[0m \u001b[1;33m=\u001b[0m \u001b[0mself\u001b[0m\u001b[1;33m.\u001b[0m\u001b[0mapply_series_generator\u001b[0m\u001b[1;33m(\u001b[0m\u001b[1;33m)\u001b[0m\u001b[1;33m\u001b[0m\u001b[1;33m\u001b[0m\u001b[0m\n\u001b[0m\u001b[0;32m    858\u001b[0m \u001b[1;33m\u001b[0m\u001b[0m\n\u001b[0;32m    859\u001b[0m         \u001b[1;31m# wrap results\u001b[0m\u001b[1;33m\u001b[0m\u001b[1;33m\u001b[0m\u001b[0m\n",
      "\u001b[1;32m~\\anaconda3\\lib\\site-packages\\pandas\\core\\apply.py\u001b[0m in \u001b[0;36mapply_series_generator\u001b[1;34m(self)\u001b[0m\n\u001b[0;32m    871\u001b[0m             \u001b[1;32mfor\u001b[0m \u001b[0mi\u001b[0m\u001b[1;33m,\u001b[0m \u001b[0mv\u001b[0m \u001b[1;32min\u001b[0m \u001b[0menumerate\u001b[0m\u001b[1;33m(\u001b[0m\u001b[0mseries_gen\u001b[0m\u001b[1;33m)\u001b[0m\u001b[1;33m:\u001b[0m\u001b[1;33m\u001b[0m\u001b[1;33m\u001b[0m\u001b[0m\n\u001b[0;32m    872\u001b[0m                 \u001b[1;31m# ignore SettingWithCopy here in case the user mutates\u001b[0m\u001b[1;33m\u001b[0m\u001b[1;33m\u001b[0m\u001b[0m\n\u001b[1;32m--> 873\u001b[1;33m                 \u001b[0mresults\u001b[0m\u001b[1;33m[\u001b[0m\u001b[0mi\u001b[0m\u001b[1;33m]\u001b[0m \u001b[1;33m=\u001b[0m \u001b[0mself\u001b[0m\u001b[1;33m.\u001b[0m\u001b[0mf\u001b[0m\u001b[1;33m(\u001b[0m\u001b[0mv\u001b[0m\u001b[1;33m)\u001b[0m\u001b[1;33m\u001b[0m\u001b[1;33m\u001b[0m\u001b[0m\n\u001b[0m\u001b[0;32m    874\u001b[0m                 \u001b[1;32mif\u001b[0m \u001b[0misinstance\u001b[0m\u001b[1;33m(\u001b[0m\u001b[0mresults\u001b[0m\u001b[1;33m[\u001b[0m\u001b[0mi\u001b[0m\u001b[1;33m]\u001b[0m\u001b[1;33m,\u001b[0m \u001b[0mABCSeries\u001b[0m\u001b[1;33m)\u001b[0m\u001b[1;33m:\u001b[0m\u001b[1;33m\u001b[0m\u001b[1;33m\u001b[0m\u001b[0m\n\u001b[0;32m    875\u001b[0m                     \u001b[1;31m# If we have a view on v, we need to make a copy because\u001b[0m\u001b[1;33m\u001b[0m\u001b[1;33m\u001b[0m\u001b[0m\n",
      "\u001b[1;32m~\\AppData\\Local\\Temp\\ipykernel_4948\\2990271021.py\u001b[0m in \u001b[0;36m<lambda>\u001b[1;34m(z)\u001b[0m\n\u001b[0;32m     66\u001b[0m \u001b[1;33m\u001b[0m\u001b[0m\n\u001b[0;32m     67\u001b[0m \u001b[1;33m\u001b[0m\u001b[0m\n\u001b[1;32m---> 68\u001b[1;33m \u001b[0mdf_test\u001b[0m\u001b[1;33m[\u001b[0m\u001b[1;34m'prediction'\u001b[0m\u001b[1;33m]\u001b[0m \u001b[1;33m=\u001b[0m \u001b[0mdf_test\u001b[0m\u001b[1;33m.\u001b[0m\u001b[0mapply\u001b[0m\u001b[1;33m(\u001b[0m\u001b[1;32mlambda\u001b[0m \u001b[0mz\u001b[0m\u001b[1;33m:\u001b[0m \u001b[0mpredict\u001b[0m\u001b[1;33m(\u001b[0m\u001b[0mz\u001b[0m\u001b[1;33m[\u001b[0m\u001b[1;34m\"user_id\"\u001b[0m\u001b[1;33m]\u001b[0m\u001b[1;33m,\u001b[0m\u001b[0mz\u001b[0m\u001b[1;33m[\u001b[0m\u001b[1;34m\"business_id\"\u001b[0m\u001b[1;33m]\u001b[0m\u001b[1;33m,\u001b[0m\u001b[1;36m10\u001b[0m\u001b[1;33m)\u001b[0m\u001b[1;33m,\u001b[0m \u001b[0maxis\u001b[0m\u001b[1;33m=\u001b[0m\u001b[1;36m1\u001b[0m\u001b[1;33m)\u001b[0m\u001b[1;33m\u001b[0m\u001b[1;33m\u001b[0m\u001b[0m\n\u001b[0m\u001b[0;32m     69\u001b[0m \u001b[0mprint\u001b[0m\u001b[1;33m(\u001b[0m\u001b[0mdf_test\u001b[0m\u001b[1;33m[\u001b[0m\u001b[1;34m'prediction'\u001b[0m\u001b[1;33m]\u001b[0m\u001b[1;33m)\u001b[0m\u001b[1;33m\u001b[0m\u001b[1;33m\u001b[0m\u001b[0m\n\u001b[0;32m     70\u001b[0m \u001b[1;33m\u001b[0m\u001b[0m\n",
      "\u001b[1;32m~\\AppData\\Local\\Temp\\ipykernel_4948\\2990271021.py\u001b[0m in \u001b[0;36mpredict\u001b[1;34m(u, b, K)\u001b[0m\n\u001b[0;32m     44\u001b[0m \u001b[1;33m\u001b[0m\u001b[0m\n\u001b[0;32m     45\u001b[0m \u001b[1;33m\u001b[0m\u001b[0m\n\u001b[1;32m---> 46\u001b[1;33m     \u001b[0musers_who_rated_b\u001b[0m\u001b[1;33m[\u001b[0m\u001b[1;34m'similarity'\u001b[0m\u001b[1;33m]\u001b[0m \u001b[1;33m=\u001b[0m \u001b[0musers_who_rated_b\u001b[0m\u001b[1;33m.\u001b[0m\u001b[0mapply\u001b[0m\u001b[1;33m(\u001b[0m\u001b[1;32mlambda\u001b[0m \u001b[0mx\u001b[0m\u001b[1;33m:\u001b[0m \u001b[0mcosine_similarity\u001b[0m\u001b[1;33m(\u001b[0m\u001b[0mnp\u001b[0m\u001b[1;33m.\u001b[0m\u001b[0marray\u001b[0m\u001b[1;33m(\u001b[0m\u001b[0mx\u001b[0m\u001b[1;33m)\u001b[0m\u001b[1;33m.\u001b[0m\u001b[0mreshape\u001b[0m\u001b[1;33m(\u001b[0m\u001b[1;36m1\u001b[0m\u001b[1;33m,\u001b[0m \u001b[1;33m-\u001b[0m\u001b[1;36m1\u001b[0m\u001b[1;33m)\u001b[0m\u001b[1;33m,\u001b[0m\u001b[0mbusiness_that_u_rated\u001b[0m\u001b[1;33m)\u001b[0m\u001b[1;33m[\u001b[0m\u001b[1;36m0\u001b[0m\u001b[1;33m]\u001b[0m\u001b[1;33m[\u001b[0m\u001b[1;36m0\u001b[0m\u001b[1;33m]\u001b[0m\u001b[1;33m,\u001b[0m \u001b[0maxis\u001b[0m\u001b[1;33m=\u001b[0m\u001b[1;36m1\u001b[0m\u001b[1;33m)\u001b[0m\u001b[1;33m\u001b[0m\u001b[1;33m\u001b[0m\u001b[0m\n\u001b[0m\u001b[0;32m     47\u001b[0m     \u001b[0musers_who_rated_b\u001b[0m \u001b[1;33m=\u001b[0m \u001b[0musers_who_rated_b\u001b[0m\u001b[1;33m.\u001b[0m\u001b[0msort_values\u001b[0m\u001b[1;33m(\u001b[0m\u001b[0mby\u001b[0m\u001b[1;33m=\u001b[0m\u001b[1;34m'similarity'\u001b[0m\u001b[1;33m,\u001b[0m \u001b[0mascending\u001b[0m\u001b[1;33m=\u001b[0m\u001b[1;32mFalse\u001b[0m\u001b[1;33m)\u001b[0m\u001b[1;33m.\u001b[0m\u001b[0mhead\u001b[0m\u001b[1;33m(\u001b[0m\u001b[0mK\u001b[0m\u001b[1;33m)\u001b[0m\u001b[1;33m\u001b[0m\u001b[1;33m\u001b[0m\u001b[0m\n\u001b[0;32m     48\u001b[0m \u001b[1;33m\u001b[0m\u001b[0m\n",
      "\u001b[1;32m~\\anaconda3\\lib\\site-packages\\pandas\\core\\frame.py\u001b[0m in \u001b[0;36mapply\u001b[1;34m(self, func, axis, raw, result_type, args, **kwargs)\u001b[0m\n\u001b[0;32m   8846\u001b[0m             \u001b[0mkwargs\u001b[0m\u001b[1;33m=\u001b[0m\u001b[0mkwargs\u001b[0m\u001b[1;33m,\u001b[0m\u001b[1;33m\u001b[0m\u001b[1;33m\u001b[0m\u001b[0m\n\u001b[0;32m   8847\u001b[0m         )\n\u001b[1;32m-> 8848\u001b[1;33m         \u001b[1;32mreturn\u001b[0m \u001b[0mop\u001b[0m\u001b[1;33m.\u001b[0m\u001b[0mapply\u001b[0m\u001b[1;33m(\u001b[0m\u001b[1;33m)\u001b[0m\u001b[1;33m.\u001b[0m\u001b[0m__finalize__\u001b[0m\u001b[1;33m(\u001b[0m\u001b[0mself\u001b[0m\u001b[1;33m,\u001b[0m \u001b[0mmethod\u001b[0m\u001b[1;33m=\u001b[0m\u001b[1;34m\"apply\"\u001b[0m\u001b[1;33m)\u001b[0m\u001b[1;33m\u001b[0m\u001b[1;33m\u001b[0m\u001b[0m\n\u001b[0m\u001b[0;32m   8849\u001b[0m \u001b[1;33m\u001b[0m\u001b[0m\n\u001b[0;32m   8850\u001b[0m     def applymap(\n",
      "\u001b[1;32m~\\anaconda3\\lib\\site-packages\\pandas\\core\\apply.py\u001b[0m in \u001b[0;36mapply\u001b[1;34m(self)\u001b[0m\n\u001b[0;32m    731\u001b[0m             \u001b[1;32mreturn\u001b[0m \u001b[0mself\u001b[0m\u001b[1;33m.\u001b[0m\u001b[0mapply_raw\u001b[0m\u001b[1;33m(\u001b[0m\u001b[1;33m)\u001b[0m\u001b[1;33m\u001b[0m\u001b[1;33m\u001b[0m\u001b[0m\n\u001b[0;32m    732\u001b[0m \u001b[1;33m\u001b[0m\u001b[0m\n\u001b[1;32m--> 733\u001b[1;33m         \u001b[1;32mreturn\u001b[0m \u001b[0mself\u001b[0m\u001b[1;33m.\u001b[0m\u001b[0mapply_standard\u001b[0m\u001b[1;33m(\u001b[0m\u001b[1;33m)\u001b[0m\u001b[1;33m\u001b[0m\u001b[1;33m\u001b[0m\u001b[0m\n\u001b[0m\u001b[0;32m    734\u001b[0m \u001b[1;33m\u001b[0m\u001b[0m\n\u001b[0;32m    735\u001b[0m     \u001b[1;32mdef\u001b[0m \u001b[0magg\u001b[0m\u001b[1;33m(\u001b[0m\u001b[0mself\u001b[0m\u001b[1;33m)\u001b[0m\u001b[1;33m:\u001b[0m\u001b[1;33m\u001b[0m\u001b[1;33m\u001b[0m\u001b[0m\n",
      "\u001b[1;32m~\\anaconda3\\lib\\site-packages\\pandas\\core\\apply.py\u001b[0m in \u001b[0;36mapply_standard\u001b[1;34m(self)\u001b[0m\n\u001b[0;32m    855\u001b[0m \u001b[1;33m\u001b[0m\u001b[0m\n\u001b[0;32m    856\u001b[0m     \u001b[1;32mdef\u001b[0m \u001b[0mapply_standard\u001b[0m\u001b[1;33m(\u001b[0m\u001b[0mself\u001b[0m\u001b[1;33m)\u001b[0m\u001b[1;33m:\u001b[0m\u001b[1;33m\u001b[0m\u001b[1;33m\u001b[0m\u001b[0m\n\u001b[1;32m--> 857\u001b[1;33m         \u001b[0mresults\u001b[0m\u001b[1;33m,\u001b[0m \u001b[0mres_index\u001b[0m \u001b[1;33m=\u001b[0m \u001b[0mself\u001b[0m\u001b[1;33m.\u001b[0m\u001b[0mapply_series_generator\u001b[0m\u001b[1;33m(\u001b[0m\u001b[1;33m)\u001b[0m\u001b[1;33m\u001b[0m\u001b[1;33m\u001b[0m\u001b[0m\n\u001b[0m\u001b[0;32m    858\u001b[0m \u001b[1;33m\u001b[0m\u001b[0m\n\u001b[0;32m    859\u001b[0m         \u001b[1;31m# wrap results\u001b[0m\u001b[1;33m\u001b[0m\u001b[1;33m\u001b[0m\u001b[0m\n",
      "\u001b[1;32m~\\anaconda3\\lib\\site-packages\\pandas\\core\\apply.py\u001b[0m in \u001b[0;36mapply_series_generator\u001b[1;34m(self)\u001b[0m\n\u001b[0;32m    871\u001b[0m             \u001b[1;32mfor\u001b[0m \u001b[0mi\u001b[0m\u001b[1;33m,\u001b[0m \u001b[0mv\u001b[0m \u001b[1;32min\u001b[0m \u001b[0menumerate\u001b[0m\u001b[1;33m(\u001b[0m\u001b[0mseries_gen\u001b[0m\u001b[1;33m)\u001b[0m\u001b[1;33m:\u001b[0m\u001b[1;33m\u001b[0m\u001b[1;33m\u001b[0m\u001b[0m\n\u001b[0;32m    872\u001b[0m                 \u001b[1;31m# ignore SettingWithCopy here in case the user mutates\u001b[0m\u001b[1;33m\u001b[0m\u001b[1;33m\u001b[0m\u001b[0m\n\u001b[1;32m--> 873\u001b[1;33m                 \u001b[0mresults\u001b[0m\u001b[1;33m[\u001b[0m\u001b[0mi\u001b[0m\u001b[1;33m]\u001b[0m \u001b[1;33m=\u001b[0m \u001b[0mself\u001b[0m\u001b[1;33m.\u001b[0m\u001b[0mf\u001b[0m\u001b[1;33m(\u001b[0m\u001b[0mv\u001b[0m\u001b[1;33m)\u001b[0m\u001b[1;33m\u001b[0m\u001b[1;33m\u001b[0m\u001b[0m\n\u001b[0m\u001b[0;32m    874\u001b[0m                 \u001b[1;32mif\u001b[0m \u001b[0misinstance\u001b[0m\u001b[1;33m(\u001b[0m\u001b[0mresults\u001b[0m\u001b[1;33m[\u001b[0m\u001b[0mi\u001b[0m\u001b[1;33m]\u001b[0m\u001b[1;33m,\u001b[0m \u001b[0mABCSeries\u001b[0m\u001b[1;33m)\u001b[0m\u001b[1;33m:\u001b[0m\u001b[1;33m\u001b[0m\u001b[1;33m\u001b[0m\u001b[0m\n\u001b[0;32m    875\u001b[0m                     \u001b[1;31m# If we have a view on v, we need to make a copy because\u001b[0m\u001b[1;33m\u001b[0m\u001b[1;33m\u001b[0m\u001b[0m\n",
      "\u001b[1;32m~\\AppData\\Local\\Temp\\ipykernel_4948\\2990271021.py\u001b[0m in \u001b[0;36m<lambda>\u001b[1;34m(x)\u001b[0m\n\u001b[0;32m     44\u001b[0m \u001b[1;33m\u001b[0m\u001b[0m\n\u001b[0;32m     45\u001b[0m \u001b[1;33m\u001b[0m\u001b[0m\n\u001b[1;32m---> 46\u001b[1;33m     \u001b[0musers_who_rated_b\u001b[0m\u001b[1;33m[\u001b[0m\u001b[1;34m'similarity'\u001b[0m\u001b[1;33m]\u001b[0m \u001b[1;33m=\u001b[0m \u001b[0musers_who_rated_b\u001b[0m\u001b[1;33m.\u001b[0m\u001b[0mapply\u001b[0m\u001b[1;33m(\u001b[0m\u001b[1;32mlambda\u001b[0m \u001b[0mx\u001b[0m\u001b[1;33m:\u001b[0m \u001b[0mcosine_similarity\u001b[0m\u001b[1;33m(\u001b[0m\u001b[0mnp\u001b[0m\u001b[1;33m.\u001b[0m\u001b[0marray\u001b[0m\u001b[1;33m(\u001b[0m\u001b[0mx\u001b[0m\u001b[1;33m)\u001b[0m\u001b[1;33m.\u001b[0m\u001b[0mreshape\u001b[0m\u001b[1;33m(\u001b[0m\u001b[1;36m1\u001b[0m\u001b[1;33m,\u001b[0m \u001b[1;33m-\u001b[0m\u001b[1;36m1\u001b[0m\u001b[1;33m)\u001b[0m\u001b[1;33m,\u001b[0m\u001b[0mbusiness_that_u_rated\u001b[0m\u001b[1;33m)\u001b[0m\u001b[1;33m[\u001b[0m\u001b[1;36m0\u001b[0m\u001b[1;33m]\u001b[0m\u001b[1;33m[\u001b[0m\u001b[1;36m0\u001b[0m\u001b[1;33m]\u001b[0m\u001b[1;33m,\u001b[0m \u001b[0maxis\u001b[0m\u001b[1;33m=\u001b[0m\u001b[1;36m1\u001b[0m\u001b[1;33m)\u001b[0m\u001b[1;33m\u001b[0m\u001b[1;33m\u001b[0m\u001b[0m\n\u001b[0m\u001b[0;32m     47\u001b[0m     \u001b[0musers_who_rated_b\u001b[0m \u001b[1;33m=\u001b[0m \u001b[0musers_who_rated_b\u001b[0m\u001b[1;33m.\u001b[0m\u001b[0msort_values\u001b[0m\u001b[1;33m(\u001b[0m\u001b[0mby\u001b[0m\u001b[1;33m=\u001b[0m\u001b[1;34m'similarity'\u001b[0m\u001b[1;33m,\u001b[0m \u001b[0mascending\u001b[0m\u001b[1;33m=\u001b[0m\u001b[1;32mFalse\u001b[0m\u001b[1;33m)\u001b[0m\u001b[1;33m.\u001b[0m\u001b[0mhead\u001b[0m\u001b[1;33m(\u001b[0m\u001b[0mK\u001b[0m\u001b[1;33m)\u001b[0m\u001b[1;33m\u001b[0m\u001b[1;33m\u001b[0m\u001b[0m\n\u001b[0;32m     48\u001b[0m \u001b[1;33m\u001b[0m\u001b[0m\n",
      "\u001b[1;32m~\\anaconda3\\lib\\site-packages\\sklearn\\metrics\\pairwise.py\u001b[0m in \u001b[0;36mcosine_similarity\u001b[1;34m(X, Y, dense_output)\u001b[0m\n\u001b[0;32m   1251\u001b[0m     \u001b[0mX\u001b[0m\u001b[1;33m,\u001b[0m \u001b[0mY\u001b[0m \u001b[1;33m=\u001b[0m \u001b[0mcheck_pairwise_arrays\u001b[0m\u001b[1;33m(\u001b[0m\u001b[0mX\u001b[0m\u001b[1;33m,\u001b[0m \u001b[0mY\u001b[0m\u001b[1;33m)\u001b[0m\u001b[1;33m\u001b[0m\u001b[1;33m\u001b[0m\u001b[0m\n\u001b[0;32m   1252\u001b[0m \u001b[1;33m\u001b[0m\u001b[0m\n\u001b[1;32m-> 1253\u001b[1;33m     \u001b[0mX_normalized\u001b[0m \u001b[1;33m=\u001b[0m \u001b[0mnormalize\u001b[0m\u001b[1;33m(\u001b[0m\u001b[0mX\u001b[0m\u001b[1;33m,\u001b[0m \u001b[0mcopy\u001b[0m\u001b[1;33m=\u001b[0m\u001b[1;32mTrue\u001b[0m\u001b[1;33m)\u001b[0m\u001b[1;33m\u001b[0m\u001b[1;33m\u001b[0m\u001b[0m\n\u001b[0m\u001b[0;32m   1254\u001b[0m     \u001b[1;32mif\u001b[0m \u001b[0mX\u001b[0m \u001b[1;32mis\u001b[0m \u001b[0mY\u001b[0m\u001b[1;33m:\u001b[0m\u001b[1;33m\u001b[0m\u001b[1;33m\u001b[0m\u001b[0m\n\u001b[0;32m   1255\u001b[0m         \u001b[0mY_normalized\u001b[0m \u001b[1;33m=\u001b[0m \u001b[0mX_normalized\u001b[0m\u001b[1;33m\u001b[0m\u001b[1;33m\u001b[0m\u001b[0m\n",
      "\u001b[1;32m~\\anaconda3\\lib\\site-packages\\sklearn\\preprocessing\\_data.py\u001b[0m in \u001b[0;36mnormalize\u001b[1;34m(X, norm, axis, copy, return_norm)\u001b[0m\n\u001b[0;32m   1790\u001b[0m         \u001b[1;32mraise\u001b[0m \u001b[0mValueError\u001b[0m\u001b[1;33m(\u001b[0m\u001b[1;34m\"'%d' is not a supported axis\"\u001b[0m \u001b[1;33m%\u001b[0m \u001b[0maxis\u001b[0m\u001b[1;33m)\u001b[0m\u001b[1;33m\u001b[0m\u001b[1;33m\u001b[0m\u001b[0m\n\u001b[0;32m   1791\u001b[0m \u001b[1;33m\u001b[0m\u001b[0m\n\u001b[1;32m-> 1792\u001b[1;33m     X = check_array(\n\u001b[0m\u001b[0;32m   1793\u001b[0m         \u001b[0mX\u001b[0m\u001b[1;33m,\u001b[0m\u001b[1;33m\u001b[0m\u001b[1;33m\u001b[0m\u001b[0m\n\u001b[0;32m   1794\u001b[0m         \u001b[0maccept_sparse\u001b[0m\u001b[1;33m=\u001b[0m\u001b[0msparse_format\u001b[0m\u001b[1;33m,\u001b[0m\u001b[1;33m\u001b[0m\u001b[1;33m\u001b[0m\u001b[0m\n",
      "\u001b[1;32m~\\anaconda3\\lib\\site-packages\\sklearn\\utils\\validation.py\u001b[0m in \u001b[0;36mcheck_array\u001b[1;34m(array, accept_sparse, accept_large_sparse, dtype, order, copy, force_all_finite, ensure_2d, allow_nd, ensure_min_samples, ensure_min_features, estimator)\u001b[0m\n\u001b[0;32m    819\u001b[0m \u001b[1;33m\u001b[0m\u001b[0m\n\u001b[0;32m    820\u001b[0m     \u001b[1;32mif\u001b[0m \u001b[0mcopy\u001b[0m \u001b[1;32mand\u001b[0m \u001b[0mnp\u001b[0m\u001b[1;33m.\u001b[0m\u001b[0mmay_share_memory\u001b[0m\u001b[1;33m(\u001b[0m\u001b[0marray\u001b[0m\u001b[1;33m,\u001b[0m \u001b[0marray_orig\u001b[0m\u001b[1;33m)\u001b[0m\u001b[1;33m:\u001b[0m\u001b[1;33m\u001b[0m\u001b[1;33m\u001b[0m\u001b[0m\n\u001b[1;32m--> 821\u001b[1;33m         \u001b[0marray\u001b[0m \u001b[1;33m=\u001b[0m \u001b[0mnp\u001b[0m\u001b[1;33m.\u001b[0m\u001b[0marray\u001b[0m\u001b[1;33m(\u001b[0m\u001b[0marray\u001b[0m\u001b[1;33m,\u001b[0m \u001b[0mdtype\u001b[0m\u001b[1;33m=\u001b[0m\u001b[0mdtype\u001b[0m\u001b[1;33m,\u001b[0m \u001b[0morder\u001b[0m\u001b[1;33m=\u001b[0m\u001b[0morder\u001b[0m\u001b[1;33m)\u001b[0m\u001b[1;33m\u001b[0m\u001b[1;33m\u001b[0m\u001b[0m\n\u001b[0m\u001b[0;32m    822\u001b[0m \u001b[1;33m\u001b[0m\u001b[0m\n\u001b[0;32m    823\u001b[0m     \u001b[1;32mreturn\u001b[0m \u001b[0marray\u001b[0m\u001b[1;33m\u001b[0m\u001b[1;33m\u001b[0m\u001b[0m\n",
      "\u001b[1;31mKeyboardInterrupt\u001b[0m: "
     ]
    }
   ],
   "source": [
    "from scipy.sparse import csr_matrix\n",
    "from sklearn.metrics.pairwise import cosine_similarity\n",
    "\n",
    "df_test = pd.read_csv('phily_users_businesses_stars_test.csv')\n",
    "df_train = pd.read_csv('phily_users_businesses_stars_train.csv')\n",
    "\n",
    "average_stars_by_user = df_train.groupby(\"user_id\")[\"stars\"].mean()\n",
    "average_stars_by_business = df_train.groupby(\"business_id\")[\"stars\"].mean()\n",
    "\n",
    "\n",
    "#print(average_stars_by_user)\n",
    "\n",
    "df_train['stars_minus_avg_stars'] = pd.to_numeric(df_train['stars']) - df_train['user_id'].map(average_stars_by_user)\n",
    "values = pd.to_numeric(df_train['stars_minus_avg_stars'])\n",
    "\n",
    "#Factorize train and test\n",
    "merged_df = pd.concat([df_train,df_test], axis=0)\n",
    "\n",
    "merged_df['user_id'] = merged_df['user_id'].factorize()[0]\n",
    "merged_df['business_id'] = merged_df['business_id'].factorize()[0]\n",
    "\n",
    "df_train = merged_df.iloc[:len(df_train)]\n",
    "df_test = merged_df.iloc[len(df_train):]\n",
    "\n",
    "\n",
    "\n",
    "\n",
    "rows = df_train['user_id'].astype(int)\n",
    "cols = df_train['business_id'].astype(int)\n",
    "\n",
    "R1 = csr_matrix((values,(rows,cols)))\n",
    "#df_train = df_train.drop('similarity',axis=1)\n",
    "#df_test = df_test.drop('stars_minus_avg_stars',axis=1)\n",
    "#print(R1[6959, 368])\n",
    "#print(R1)\n",
    "\n",
    "def predict(u,b,K):\n",
    "    #print(u,b)\n",
    "    users_who_rated_b = df_train[df_train[\"business_id\"]==b]\n",
    "    business_that_u_rated = df_test[(df_test[\"user_id\"]==u) & (df_test[\"business_id\"]==b)]\n",
    "\n",
    "    business_that_u_rated = business_that_u_rated.drop(\"stars_minus_avg_stars\",axis=1)\n",
    "    users_who_rated_b = users_who_rated_b.drop(\"stars_minus_avg_stars\",axis=1)\n",
    "\n",
    "\n",
    "    users_who_rated_b['similarity'] = users_who_rated_b.apply(lambda x: cosine_similarity(np.array(x).reshape(1, -1),business_that_u_rated)[0][0], axis=1)\n",
    "    users_who_rated_b = users_who_rated_b.sort_values(by='similarity', ascending=False).head(K)\n",
    "    \n",
    "    ru = df_train[df_train[\"user_id\"]==u][\"stars\"].mean()\n",
    "    #print(ru)\n",
    "    \n",
    "    users_who_rated_b[\"S_times_R\"] = users_who_rated_b.apply(lambda y: pd.to_numeric(y['similarity'])*R1[int(y['user_id']),int(b)], axis=1)\n",
    "    sum_of_S_times_R = users_who_rated_b[\"S_times_R\"].sum()\n",
    "    sum_of_S = users_who_rated_b[\"similarity\"].sum()\n",
    "\n",
    "    p = ru + (sum_of_S_times_R/sum_of_S)\n",
    "    if p<=0:\n",
    "        p=0\n",
    "    elif p>=5:\n",
    "        p=5\n",
    "\n",
    "    #print (\"prediction  = \",p)\n",
    "    return users_who_rated_b,business_that_u_rated\n",
    "    \n",
    "\n",
    "\n",
    "\n",
    "df_test['prediction'] = df_test.apply(lambda z: predict(z[\"user_id\"],z[\"business_id\"],10), axis=1)\n",
    "print(df_test['prediction'])\n",
    "\n"
   ]
  },
  {
   "cell_type": "markdown",
   "id": "8a0d5db4",
   "metadata": {},
   "source": [
    "#ASKISI2.7\n"
   ]
  },
  {
   "cell_type": "code",
   "execution_count": 8,
   "id": "b08235d3",
   "metadata": {},
   "outputs": [
    {
     "data": {
      "image/png": "[encoded data removed]",
      "text/plain": [
       "<Figure size 640x480 with 1 Axes>"
      ]
     },
     "metadata": {},
     "output_type": "display_data"
    }
   ],
   "source": [
    "RMSE_of_UA = rmse1\n",
    "RMSE_of_BA = rmse2\n",
    "RMSE_of_SVD = min(rmse_matrix)\n",
    "\n",
    "labels = ['RMSE_of_UA','RMSE_of_BA','RMSE_of_SVD']\n",
    "rmse_values = [RMSE_of_UA,RMSE_of_BA,RMSE_of_SVD]\n",
    "\n",
    "plt.bar(labels, rmse_values)\n",
    "plt.xlabel('Labels')\n",
    "plt.ylabel('RMSE')\n",
    "\n",
    "plt.show()"
   ]
  },
  {
   "cell_type": "markdown",
   "id": "ca81849f",
   "metadata": {},
   "source": [
    "#ASKISI 3 DATA PREPARATION\n"
   ]
  },
  {
   "cell_type": "code",
   "execution_count": 12,
   "id": "38d9ede4",
   "metadata": {},
   "outputs": [
    {
     "name": "stdout",
     "output_type": "stream",
     "text": [
      "(5854, 14)\n",
      "0        0\n",
      "1        1\n",
      "2        0\n",
      "3        1\n",
      "4        0\n",
      "        ..\n",
      "14559    0\n",
      "14561    1\n",
      "14562    1\n",
      "14563    0\n",
      "14568    0\n",
      "Name: keywords, Length: 5854, dtype: int64\n",
      "(1073, 15)\n",
      "                      review_id                 user_id  \\\n",
      "13       8JFGBuHMoiNDyfcxuWNtrA  smOvOajNG0lS4Pq7d8g4JQ   \n",
      "49       cvQXRFLCyr0S7EgFb4lZqw  ZGjgfSvjQK886kiTzLwfLQ   \n",
      "102      8GZbCEMxrbqmRinDbfHWVQ  OkjeFppodgJP_CvB84cJYw   \n",
      "113      3dVcGYz6GokuEytLrfG8bA  FEI0XkOrUHufSW_rfOTPAA   \n",
      "184      -xM8cH4AeVzgTJBQHlxfUQ  ZaMB7VbOwaARjxdhXjODxA   \n",
      "...                         ...                     ...   \n",
      "6989477  v7t0iEY4YnFiVYCMWfi7RA  Ltn-FyXdf8F7GW0nRB6nyw   \n",
      "6989500  fcXXmkr0bZjsZ_l3clVAWw  ZMAZbnWSlKKwxh96A7lMrw   \n",
      "6989532  UmO5D7ZXgT2Bzqh4wH0o3g  rn_B8ffTR_3ZlW9FcE1n3g   \n",
      "6990047  jsBz-uJy6M--L8ogPG52dA  bJ5FtCtZX3ZZacz2_2PJjA   \n",
      "6990219  YAAmRuqBqaFV6kW6ozjBpQ  aFLEltFU8TVgYS1C6tzuUA   \n",
      "\n",
      "                    business_id  stars  useful  funny  cool  \\\n",
      "13       RZtGWDLCAtuipwaZ-UfjmQ      4       0      0     0   \n",
      "49       EtKSTHV5Qx_Q7Aur9o4kQQ      5       3      1     1   \n",
      "102      FHNIvNgh3fS7VZQq2Y3dsA      3       1      0     1   \n",
      "113      Dv6RfXLYe1atjgz3Xf4GGw      4       1      0     0   \n",
      "184      EtKSTHV5Qx_Q7Aur9o4kQQ      5       0      0     0   \n",
      "...                         ...    ...     ...    ...   ...   \n",
      "6989477  ozOneB4jXOD6hv5WBGj4KQ      5       0      0     0   \n",
      "6989500  hUmHwBQtGg0iH-PZakQJDw      4       0      0     1   \n",
      "6989532  y8gjlpJA89qDRCLC0JQaew      5      17      3     9   \n",
      "6990047  mBgaPljP3OYkl_vGKTyFNw      4       4      1     4   \n",
      "6990219  8XjxHeV66F4eoIy06rW0pA      5       4      0     1   \n",
      "\n",
      "                                                      text                date  \n",
      "13       Good food--loved the gnocchi with marinara\\nth... 2009-10-14 19:57:14  \n",
      "49       On a scale of one to things that are awesome, ... 2009-10-14 01:15:04  \n",
      "102      After trying a few ramen places with crazy var... 2014-07-13 18:28:58  \n",
      "113      Good food, reasonably priced, and nice staff. ... 2012-12-04 23:58:36  \n",
      "184      Picked up takeout from Village Whiskey (so I c... 2014-11-30 01:55:57  \n",
      "...                                                    ...                 ...  \n",
      "6989477  Great food and amazing hospitality - award win... 2021-11-29 21:36:01  \n",
      "6989500  This is a salad restaurant in the Fishtown nei... 2021-11-08 23:57:18  \n",
      "6989532  I love this place for happy hour! I've come he... 2019-08-30 00:17:11  \n",
      "6990047  I remember a time where legitimate good pizza ... 2012-03-16 05:37:03  \n",
      "6990219  Porta, Porta, Porta, one of my new FAVORITE sp... 2018-08-04 17:47:21  \n",
      "\n",
      "[159370 rows x 9 columns]\n",
      "business_id\n",
      "-AbzJTLQdbdQrhRzQLgsKA    Kingyo has summer appetizer specials for $3.00...\n",
      "-HxLFWKVgXSU8JlR21PBkg    \"Carluccio's: Way Delish\"\\n\\nEver find yoursel...\n",
      "-LmhsdQproqCf5EQoD06rQ    Down in south Philly for a meeting at my daugh...\n",
      "-MkngKKkTIVfnUbq2S1ucQ    Dee-frickin'-licious thick crust pizza!!! I or...\n",
      "-PMXnNJ1D67NkAupRHNkpQ    I've always preferred domino's over pizza hut!...\n",
      "                                                ...                        \n",
      "zgX8sYCRGVJ9M5LETpJ60A    I popped in there one afternoon to pick up som...\n",
      "zqisPpgCURrgLf4TVnI8RQ    This review is for poke bowl. Very fresh salad...\n",
      "zvixukO8M4PCmMMaZOldPg    Nestled in the same Block as Vill De Roma and ...\n",
      "zxY4DgtXsVHihSUpsmwamg    Every time I'm in Philly I make a point to sto...\n",
      "zzyx5x0Z7xXWWvWnZFuxlQ    Maybe the pizza is good here... but I can real...\n",
      "Name: text, Length: 1073, dtype: object\n",
      "finished\n"
     ]
    }
   ],
   "source": [
    "from sklearn.feature_extraction.text import TfidfVectorizer\n",
    "from sklearn.cluster import KMeans\n",
    "from sklearn.metrics import confusion_matrix\n",
    "from sklearn.cluster import AgglomerativeClustering\n",
    "from sklearn.metrics import silhouette_score\n",
    "\n",
    "\n",
    "df_businesses = pd.read_csv('phily_businesses.csv')\n",
    "df_businesses = df_businesses.dropna(subset=['categories'])\n",
    "df_businesses = df_businesses[df_businesses['categories'].str.contains(\"Restaurant\")]\n",
    "print(df_businesses.shape)\n",
    "\n",
    "#kai afto 1073 rows vgazei kai o allos tropos me to lambda\n",
    "'''df_jap = df_businesses[df_businesses['categories'].str.contains(\"Japanese\")]\n",
    "\n",
    "df_Ita = df_businesses[df_businesses['categories'].str.contains(\"Italian\")]\n",
    "\n",
    "df_Bur = df_businesses[df_businesses['categories'].str.contains(\"Burgers\")]\n",
    "\n",
    "df_businesses = pd.concat([df_jap,df_Bur])\n",
    "df_businesses = pd.concat([df_businesses,df_Ita])\n",
    "df_businesses = df_businesses[~(df_businesses['categories'].str.contains('Italian', case=False, na=False) & df_businesses['categories'].str.contains('Burger', case=False, na=False))]\n",
    "df_businesses = df_businesses[~(df_businesses['categories'].str.contains('Italian', case=False, na=False) & df_businesses['categories'].str.contains('Japanese', case=False, na=False))]\n",
    "df_businesses = df_businesses[~(df_businesses['categories'].str.contains('Japanese', case=False, na=False) & df_businesses['categories'].str.contains('Burger', case=False, na=False))]\n",
    "df_businesses = df_businesses[~(df_businesses['categories'].str.contains('Italian', case=False, na=False) & df_businesses['categories'].str.contains('Burger', case=False, na=False) & df_businesses['categories'].str.contains('Japanese', case=False, na=False))]\n",
    "print(df_businesses.shape)'''\n",
    "\n",
    "\n",
    "restaurantTypes = ['Japanese', 'Italian', 'Burgers']\n",
    "df_businesses['keywords'] = df_businesses['categories'].apply(lambda x: sum(1 for type in restaurantTypes if type in x))\n",
    "print(df_businesses['keywords'])\n",
    "df_businesses = df_businesses[df_businesses['keywords'] == 1]\n",
    "print(df_businesses.shape)\n",
    "df_businesses.drop('keywords', axis=1, inplace=True)\n",
    "\n",
    "\n",
    "\n",
    "chunks = pd.read_json('yelp_academic_dataset_review.json', lines=True,chunksize=100000)\n",
    "df_reviews = pd.DataFrame()\n",
    "\n",
    "for chunk in chunks:\n",
    "    temp = chunk[chunk['business_id'].isin(df_businesses['business_id'])]\n",
    "    df_reviews = pd.concat([df_reviews,temp])\n",
    "print(df_reviews)\n",
    "\n",
    "\n",
    "\n",
    "merged_reviews = df_reviews[['business_id','text']].groupby('business_id').agg({'text': ' '.join})\n",
    "print(merged_reviews['text'])\n",
    "#df_reviews = df_reviews.sort_values('business_id')\n",
    "\n",
    "\n",
    "print(\"finished\")\n"
   ]
  },
  {
   "cell_type": "markdown",
   "id": "fb78152a",
   "metadata": {},
   "source": [
    "#ASKISI 3.1\n"
   ]
  },
  {
   "cell_type": "code",
   "execution_count": 13,
   "id": "48dd25f1",
   "metadata": {},
   "outputs": [
    {
     "name": "stdout",
     "output_type": "stream",
     "text": [
      "  (0, 193)\t0.013595455899961289\n",
      "  (0, 653)\t0.014274988463174015\n",
      "  (0, 884)\t0.01621053530419608\n",
      "  (0, 819)\t0.01997756481267947\n",
      "  (0, 74)\t0.01849406539776634\n",
      "  (0, 281)\t0.02315919945302783\n",
      "  (0, 536)\t0.015719884184305602\n",
      "  (0, 318)\t0.015940984997622566\n",
      "  (0, 385)\t0.015582343120286604\n",
      "  (0, 82)\t0.01724587377948269\n",
      "  (0, 558)\t0.016084982055262636\n",
      "  (0, 17)\t0.01202205385780252\n",
      "  (0, 723)\t0.019451452390307145\n",
      "  (0, 683)\t0.014964401802966171\n",
      "  (0, 310)\t0.013460345340271067\n",
      "  (0, 964)\t0.013415817869528529\n",
      "  (0, 415)\t0.015146598414572596\n",
      "  (0, 144)\t0.013082542339896542\n",
      "  (0, 475)\t0.01356523071883979\n",
      "  (0, 570)\t0.017897379791736594\n",
      "  (0, 472)\t0.02828810327563611\n",
      "  (0, 812)\t0.01525797103081649\n",
      "  (0, 933)\t0.012762777789578824\n",
      "  (0, 443)\t0.01261431080901307\n",
      "  (0, 297)\t0.025772728131576033\n",
      "  :\t:\n",
      "  (1072, 354)\t0.02357610165238526\n",
      "  (1072, 482)\t0.02305324743425826\n",
      "  (1072, 390)\t0.027385079694662383\n",
      "  (1072, 622)\t0.02479238942550569\n",
      "  (1072, 756)\t0.023935523689911312\n",
      "  (1072, 703)\t0.022834850219398673\n",
      "  (1072, 168)\t0.022384386611855826\n",
      "  (1072, 841)\t0.023324754836309358\n",
      "  (1072, 745)\t0.02567411788227272\n",
      "  (1072, 739)\t0.02236106384236756\n",
      "  (1072, 639)\t0.022337778781496374\n",
      "  (1072, 204)\t0.024118655401945226\n",
      "  (1072, 767)\t0.03042636957323814\n",
      "  (1072, 520)\t0.02515559682474428\n",
      "  (1072, 301)\t0.021970248609660365\n",
      "  (1072, 774)\t0.023349693036500033\n",
      "  (1072, 801)\t0.049640011109590335\n",
      "  (1072, 816)\t0.04750938290062661\n",
      "  (1072, 804)\t0.026613369722980805\n",
      "  (1072, 491)\t0.0244112229461933\n",
      "  (1072, 802)\t0.023677881630850425\n",
      "  (1072, 975)\t0.02618159156341952\n",
      "  (1072, 136)\t0.05036783794310892\n",
      "  (1072, 374)\t0.031794929134770174\n",
      "  (1072, 325)\t0.027651787446643396\n",
      "finished\n"
     ]
    }
   ],
   "source": [
    "\n",
    "vectorizer = TfidfVectorizer(stop_words='english',max_df=0.6,max_features=1000)\n",
    "vec = vectorizer.fit_transform(merged_reviews['text'])\n",
    "print(vec)\n",
    "\n",
    "\n",
    "kmeans = KMeans(n_clusters=3)\n",
    "kmeans.fit(vec)\n",
    "kmeans_clusters = kmeans.predict(vec)\n",
    "#confusion_mat = confusion_matrix(kmeans_clusters,labels)\n",
    "#print(f\"confusion_matrix for kmeans : \\n{confusion_mat}\")\n",
    "\n",
    "linkage = ['ward', 'complete', 'average', 'single']\n",
    "\n",
    "for l in linkage:\n",
    "    agg_clustering = AgglomerativeClustering(n_clusters=3, linkage=l)\n",
    "    agg_clustering.fit(vec.toarray())\n",
    "    agglomerative_clusters = agg_clustering.fit_predict(vec.toarray())\n",
    "    #confusion_mat = confusion_matrix(kmeans_clusters,labels)\n",
    "    #print(f\"confusion_matrix for {l} : \\n{confusion_mat}\")\n",
    "\n",
    "print(\"finished\")\n",
    "\n"
   ]
  },
  {
   "cell_type": "markdown",
   "id": "918e8ada",
   "metadata": {},
   "source": [
    "#ASKISI 3.2"
   ]
  },
  {
   "cell_type": "code",
   "execution_count": 14,
   "id": "a390348a",
   "metadata": {},
   "outputs": [
    {
     "name": "stdout",
     "output_type": "stream",
     "text": [
      "Top 10 words for center 0: [641, 863, 641, 863, 123, 863, 863, 863, 228, 863]\n",
      "Top 10 words for center 1: [686, 686, 686, 686, 863, 228, 863, 686, 686, 686]\n",
      "Top 10 words for center 2: [273, 641, 777, 448, 777, 641, 641, 641, 641, 641]\n",
      "finished\n"
     ]
    }
   ],
   "source": [
    "\n",
    "centers = kmeans.cluster_centers_\n",
    "\n",
    "for i, center in enumerate(centers):\n",
    "    distancesFromCenter = np.linalg.norm(vec - center, axis=1)\n",
    "    data = vec[np.argsort(distancesFromCenter)[-10:]]\n",
    "    words = [np.argmax(vector) for vector in data]\n",
    "    print(f'Top 10 words for center {i}: {words}')\n",
    "\n",
    "print(\"finished\")\n"
   ]
  },
  {
   "cell_type": "markdown",
   "id": "da4c8920",
   "metadata": {},
   "source": [
    "#ASKISI 3.4"
   ]
  },
  {
   "cell_type": "code",
   "execution_count": 17,
   "id": "9225bc70",
   "metadata": {},
   "outputs": [
    {
     "data": {
      "image/png": "[encoded data removed]",
      "text/plain": [
       "<Figure size 640x480 with 1 Axes>"
      ]
     },
     "metadata": {},
     "output_type": "display_data"
    },
    {
     "data": {
      "image/png": "[encoded data removed]",
      "text/plain": [
       "<Figure size 640x480 with 1 Axes>"
      ]
     },
     "metadata": {},
     "output_type": "display_data"
    },
    {
     "name": "stdout",
     "output_type": "stream",
     "text": [
      "Top 10 words for center 1: [686, 686, 686, 686, 228, 863, 863, 686, 686, 686]\n",
      "Top 10 words for center 2: [448, 119, 777, 641, 777, 641, 104, 641, 641, 641]\n",
      "Top 10 words for center 3: [689, 974, 448, 641, 686, 641, 273, 686, 641, 641]\n",
      "Top 10 words for center 4: [448, 977, 273, 686, 686, 686, 686, 123, 863, 228]\n",
      "Top 10 words for center 5: [686, 863, 641, 454, 686, 686, 641, 686, 863, 686]\n",
      "Top 10 words for center 6: [686, 686, 686, 686, 686, 686, 686, 228, 686, 686]\n",
      "Top 10 words for center 7: [686, 686, 686, 656, 686, 686, 863, 686, 228, 686]\n",
      "Top 10 words for center 8: [789, 273, 641, 641, 641, 641, 641, 641, 641, 641]\n",
      "Top 10 words for center 9: [686, 686, 863, 863, 686, 686, 686, 686, 863, 686]\n",
      "finished\n"
     ]
    }
   ],
   "source": [
    "\n",
    "k_range = [i for i in range(2,11)]\n",
    "\n",
    "sse = []\n",
    "silhouette_coefficients = []\n",
    "\n",
    "# Perform k-means for each value of n_clusters\n",
    "for k in k_range:\n",
    "    kmeans = KMeans(n_clusters=k)\n",
    "    kmeans.fit(vec)\n",
    "    sse.append(kmeans.inertia_)\n",
    "    silhouette_coefficients.append(silhouette_score(vec, kmeans.labels_))\n",
    "\n",
    "plt.figure()\n",
    "plt.plot(k_range, sse)\n",
    "plt.xlabel('Number of clusters')\n",
    "plt.ylabel('SSE')\n",
    "plt.show()\n",
    "\n",
    "plt.figure()\n",
    "plt.plot(k_range, silhouette_coefficients)\n",
    "plt.xlabel('Number of clusters')\n",
    "plt.ylabel('Silhouette Coefficient')\n",
    "plt.show()\n",
    "\n",
    "\n",
    "kmeans = KMeans(n_clusters=9)\n",
    "kmeans.fit(vec)\n",
    "centers = kmeans.cluster_centers_\n",
    "\n",
    "for i, center in enumerate(centers):\n",
    "    distancesFromCenter = np.linalg.norm(vec - center, axis=1)\n",
    "    data = vec[np.argsort(distancesFromCenter)[-10:]]\n",
    "    words = [np.argmax(vector) for vector in data]\n",
    "    print(f'Top 10 words for center {i+1}: {words}')\n",
    "\n",
    "print(\"finished\")"
   ]
  },
  {
   "cell_type": "code",
   "execution_count": null,
   "id": "992fea09",
   "metadata": {},
   "outputs": [],
   "source": []
  }
 ],
 "metadata": {
  "kernelspec": {
   "display_name": "Python 3 (ipykernel)",
   "language": "python",
   "name": "python3"
  },
  "language_info": {
   "codemirror_mode": {
    "name": "ipython",
    "version": 3
   },
   "file_extension": ".py",
   "mimetype": "text/x-python",
   "name": "python",
   "nbconvert_exporter": "python",
   "pygments_lexer": "ipython3",
   "version": "3.9.13"
  },
  "vscode": {
   "interpreter": {
    "hash": "35b4ab4068d51c50da5b0c42f38812a329770a0d24d47970619c7521cf6a8da8"
   }
  }
 },
 "nbformat": 4,
 "nbformat_minor": 5
}
